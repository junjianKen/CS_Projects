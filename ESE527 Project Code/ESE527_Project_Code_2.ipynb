{
  "cells": [
    {
      "cell_type": "code",
      "execution_count": 214,
      "metadata": {
        "colab": {
          "base_uri": "https://localhost:8080/"
        },
        "id": "SQ2hTMzRYJhf",
        "outputId": "071e3e14-4c57-46d8-901c-1212e3956b32"
      },
      "outputs": [
        {
          "output_type": "stream",
          "name": "stdout",
          "text": [
            "Drive already mounted at /content/drive; to attempt to forcibly remount, call drive.mount(\"/content/drive\", force_remount=True).\n"
          ]
        }
      ],
      "source": [
        "from google.colab import drive\n",
        "drive.mount('/content/drive')"
      ]
    },
    {
      "cell_type": "markdown",
      "metadata": {
        "id": "bYB1d_q9gGad"
      },
      "source": [
        "# load data\n"
      ]
    },
    {
      "cell_type": "code",
      "execution_count": 215,
      "metadata": {
        "id": "fiLdhTuJZidL"
      },
      "outputs": [],
      "source": [
        "import pandas as pd\n",
        "import matplotlib.pyplot as plt\n",
        "import seaborn as sns\n",
        "import numpy as np\n",
        "import plotly.express as px\n",
        "import folium\n",
        "\n",
        "# for ML:\n",
        "from sklearn.model_selection import train_test_split, KFold, cross_validate, cross_val_score\n",
        "from sklearn.pipeline import Pipeline\n",
        "from sklearn.compose import ColumnTransformer\n",
        "from sklearn.preprocessing import LabelEncoder, OneHotEncoder\n",
        "from sklearn.impute import SimpleImputer\n",
        "from sklearn.ensemble import RandomForestClassifier\n",
        "from xgboost import XGBClassifier\n",
        "from sklearn.linear_model import LogisticRegression\n",
        "from sklearn.tree import DecisionTreeClassifier\n",
        "from sklearn.metrics import accuracy_score, confusion_matrix, classification_report\n",
        "# import eli5 # Feature importance evaluation"
      ]
    },
    {
      "cell_type": "code",
      "execution_count": 216,
      "metadata": {
        "id": "xgMf2S48ajHT"
      },
      "outputs": [],
      "source": [
        "# df = pd.read_csv('/content/drive/MyDrive/527/hotel_bookings.csv') #for Leting Sun\n",
        "df = pd.read_csv('/content/drive/MyDrive/hotel_bookings.csv') # For Ken"
      ]
    },
    {
      "cell_type": "code",
      "execution_count": 217,
      "metadata": {
        "colab": {
          "base_uri": "https://localhost:8080/",
          "height": 382
        },
        "id": "m_5EGUgHbtdt",
        "outputId": "46ab3cf2-a157-4592-a06f-691b35be1de7"
      },
      "outputs": [
        {
          "output_type": "execute_result",
          "data": {
            "text/plain": [
              "          hotel  is_canceled  lead_time  arrival_date_year arrival_date_month  \\\n",
              "0  Resort Hotel            0        342               2015               July   \n",
              "1  Resort Hotel            0        737               2015               July   \n",
              "2  Resort Hotel            0          7               2015               July   \n",
              "3  Resort Hotel            0         13               2015               July   \n",
              "4  Resort Hotel            0         14               2015               July   \n",
              "\n",
              "   arrival_date_week_number  arrival_date_day_of_month  \\\n",
              "0                        27                          1   \n",
              "1                        27                          1   \n",
              "2                        27                          1   \n",
              "3                        27                          1   \n",
              "4                        27                          1   \n",
              "\n",
              "   stays_in_weekend_nights  stays_in_week_nights  adults  ...  deposit_type  \\\n",
              "0                        0                     0       2  ...    No Deposit   \n",
              "1                        0                     0       2  ...    No Deposit   \n",
              "2                        0                     1       1  ...    No Deposit   \n",
              "3                        0                     1       1  ...    No Deposit   \n",
              "4                        0                     2       2  ...    No Deposit   \n",
              "\n",
              "   agent company days_in_waiting_list customer_type   adr  \\\n",
              "0    NaN     NaN                    0     Transient   0.0   \n",
              "1    NaN     NaN                    0     Transient   0.0   \n",
              "2    NaN     NaN                    0     Transient  75.0   \n",
              "3  304.0     NaN                    0     Transient  75.0   \n",
              "4  240.0     NaN                    0     Transient  98.0   \n",
              "\n",
              "   required_car_parking_spaces  total_of_special_requests  reservation_status  \\\n",
              "0                            0                          0           Check-Out   \n",
              "1                            0                          0           Check-Out   \n",
              "2                            0                          0           Check-Out   \n",
              "3                            0                          0           Check-Out   \n",
              "4                            0                          1           Check-Out   \n",
              "\n",
              "  reservation_status_date  \n",
              "0              2015-07-01  \n",
              "1              2015-07-01  \n",
              "2              2015-07-02  \n",
              "3              2015-07-02  \n",
              "4              2015-07-03  \n",
              "\n",
              "[5 rows x 32 columns]"
            ],
            "text/html": [
              "\n",
              "  <div id=\"df-246a9d8d-e464-4af1-8ca7-fcf53b38f95b\">\n",
              "    <div class=\"colab-df-container\">\n",
              "      <div>\n",
              "<style scoped>\n",
              "    .dataframe tbody tr th:only-of-type {\n",
              "        vertical-align: middle;\n",
              "    }\n",
              "\n",
              "    .dataframe tbody tr th {\n",
              "        vertical-align: top;\n",
              "    }\n",
              "\n",
              "    .dataframe thead th {\n",
              "        text-align: right;\n",
              "    }\n",
              "</style>\n",
              "<table border=\"1\" class=\"dataframe\">\n",
              "  <thead>\n",
              "    <tr style=\"text-align: right;\">\n",
              "      <th></th>\n",
              "      <th>hotel</th>\n",
              "      <th>is_canceled</th>\n",
              "      <th>lead_time</th>\n",
              "      <th>arrival_date_year</th>\n",
              "      <th>arrival_date_month</th>\n",
              "      <th>arrival_date_week_number</th>\n",
              "      <th>arrival_date_day_of_month</th>\n",
              "      <th>stays_in_weekend_nights</th>\n",
              "      <th>stays_in_week_nights</th>\n",
              "      <th>adults</th>\n",
              "      <th>...</th>\n",
              "      <th>deposit_type</th>\n",
              "      <th>agent</th>\n",
              "      <th>company</th>\n",
              "      <th>days_in_waiting_list</th>\n",
              "      <th>customer_type</th>\n",
              "      <th>adr</th>\n",
              "      <th>required_car_parking_spaces</th>\n",
              "      <th>total_of_special_requests</th>\n",
              "      <th>reservation_status</th>\n",
              "      <th>reservation_status_date</th>\n",
              "    </tr>\n",
              "  </thead>\n",
              "  <tbody>\n",
              "    <tr>\n",
              "      <th>0</th>\n",
              "      <td>Resort Hotel</td>\n",
              "      <td>0</td>\n",
              "      <td>342</td>\n",
              "      <td>2015</td>\n",
              "      <td>July</td>\n",
              "      <td>27</td>\n",
              "      <td>1</td>\n",
              "      <td>0</td>\n",
              "      <td>0</td>\n",
              "      <td>2</td>\n",
              "      <td>...</td>\n",
              "      <td>No Deposit</td>\n",
              "      <td>NaN</td>\n",
              "      <td>NaN</td>\n",
              "      <td>0</td>\n",
              "      <td>Transient</td>\n",
              "      <td>0.0</td>\n",
              "      <td>0</td>\n",
              "      <td>0</td>\n",
              "      <td>Check-Out</td>\n",
              "      <td>2015-07-01</td>\n",
              "    </tr>\n",
              "    <tr>\n",
              "      <th>1</th>\n",
              "      <td>Resort Hotel</td>\n",
              "      <td>0</td>\n",
              "      <td>737</td>\n",
              "      <td>2015</td>\n",
              "      <td>July</td>\n",
              "      <td>27</td>\n",
              "      <td>1</td>\n",
              "      <td>0</td>\n",
              "      <td>0</td>\n",
              "      <td>2</td>\n",
              "      <td>...</td>\n",
              "      <td>No Deposit</td>\n",
              "      <td>NaN</td>\n",
              "      <td>NaN</td>\n",
              "      <td>0</td>\n",
              "      <td>Transient</td>\n",
              "      <td>0.0</td>\n",
              "      <td>0</td>\n",
              "      <td>0</td>\n",
              "      <td>Check-Out</td>\n",
              "      <td>2015-07-01</td>\n",
              "    </tr>\n",
              "    <tr>\n",
              "      <th>2</th>\n",
              "      <td>Resort Hotel</td>\n",
              "      <td>0</td>\n",
              "      <td>7</td>\n",
              "      <td>2015</td>\n",
              "      <td>July</td>\n",
              "      <td>27</td>\n",
              "      <td>1</td>\n",
              "      <td>0</td>\n",
              "      <td>1</td>\n",
              "      <td>1</td>\n",
              "      <td>...</td>\n",
              "      <td>No Deposit</td>\n",
              "      <td>NaN</td>\n",
              "      <td>NaN</td>\n",
              "      <td>0</td>\n",
              "      <td>Transient</td>\n",
              "      <td>75.0</td>\n",
              "      <td>0</td>\n",
              "      <td>0</td>\n",
              "      <td>Check-Out</td>\n",
              "      <td>2015-07-02</td>\n",
              "    </tr>\n",
              "    <tr>\n",
              "      <th>3</th>\n",
              "      <td>Resort Hotel</td>\n",
              "      <td>0</td>\n",
              "      <td>13</td>\n",
              "      <td>2015</td>\n",
              "      <td>July</td>\n",
              "      <td>27</td>\n",
              "      <td>1</td>\n",
              "      <td>0</td>\n",
              "      <td>1</td>\n",
              "      <td>1</td>\n",
              "      <td>...</td>\n",
              "      <td>No Deposit</td>\n",
              "      <td>304.0</td>\n",
              "      <td>NaN</td>\n",
              "      <td>0</td>\n",
              "      <td>Transient</td>\n",
              "      <td>75.0</td>\n",
              "      <td>0</td>\n",
              "      <td>0</td>\n",
              "      <td>Check-Out</td>\n",
              "      <td>2015-07-02</td>\n",
              "    </tr>\n",
              "    <tr>\n",
              "      <th>4</th>\n",
              "      <td>Resort Hotel</td>\n",
              "      <td>0</td>\n",
              "      <td>14</td>\n",
              "      <td>2015</td>\n",
              "      <td>July</td>\n",
              "      <td>27</td>\n",
              "      <td>1</td>\n",
              "      <td>0</td>\n",
              "      <td>2</td>\n",
              "      <td>2</td>\n",
              "      <td>...</td>\n",
              "      <td>No Deposit</td>\n",
              "      <td>240.0</td>\n",
              "      <td>NaN</td>\n",
              "      <td>0</td>\n",
              "      <td>Transient</td>\n",
              "      <td>98.0</td>\n",
              "      <td>0</td>\n",
              "      <td>1</td>\n",
              "      <td>Check-Out</td>\n",
              "      <td>2015-07-03</td>\n",
              "    </tr>\n",
              "  </tbody>\n",
              "</table>\n",
              "<p>5 rows × 32 columns</p>\n",
              "</div>\n",
              "      <button class=\"colab-df-convert\" onclick=\"convertToInteractive('df-246a9d8d-e464-4af1-8ca7-fcf53b38f95b')\"\n",
              "              title=\"Convert this dataframe to an interactive table.\"\n",
              "              style=\"display:none;\">\n",
              "        \n",
              "  <svg xmlns=\"http://www.w3.org/2000/svg\" height=\"24px\"viewBox=\"0 0 24 24\"\n",
              "       width=\"24px\">\n",
              "    <path d=\"M0 0h24v24H0V0z\" fill=\"none\"/>\n",
              "    <path d=\"M18.56 5.44l.94 2.06.94-2.06 2.06-.94-2.06-.94-.94-2.06-.94 2.06-2.06.94zm-11 1L8.5 8.5l.94-2.06 2.06-.94-2.06-.94L8.5 2.5l-.94 2.06-2.06.94zm10 10l.94 2.06.94-2.06 2.06-.94-2.06-.94-.94-2.06-.94 2.06-2.06.94z\"/><path d=\"M17.41 7.96l-1.37-1.37c-.4-.4-.92-.59-1.43-.59-.52 0-1.04.2-1.43.59L10.3 9.45l-7.72 7.72c-.78.78-.78 2.05 0 2.83L4 21.41c.39.39.9.59 1.41.59.51 0 1.02-.2 1.41-.59l7.78-7.78 2.81-2.81c.8-.78.8-2.07 0-2.86zM5.41 20L4 18.59l7.72-7.72 1.47 1.35L5.41 20z\"/>\n",
              "  </svg>\n",
              "      </button>\n",
              "      \n",
              "  <style>\n",
              "    .colab-df-container {\n",
              "      display:flex;\n",
              "      flex-wrap:wrap;\n",
              "      gap: 12px;\n",
              "    }\n",
              "\n",
              "    .colab-df-convert {\n",
              "      background-color: #E8F0FE;\n",
              "      border: none;\n",
              "      border-radius: 50%;\n",
              "      cursor: pointer;\n",
              "      display: none;\n",
              "      fill: #1967D2;\n",
              "      height: 32px;\n",
              "      padding: 0 0 0 0;\n",
              "      width: 32px;\n",
              "    }\n",
              "\n",
              "    .colab-df-convert:hover {\n",
              "      background-color: #E2EBFA;\n",
              "      box-shadow: 0px 1px 2px rgba(60, 64, 67, 0.3), 0px 1px 3px 1px rgba(60, 64, 67, 0.15);\n",
              "      fill: #174EA6;\n",
              "    }\n",
              "\n",
              "    [theme=dark] .colab-df-convert {\n",
              "      background-color: #3B4455;\n",
              "      fill: #D2E3FC;\n",
              "    }\n",
              "\n",
              "    [theme=dark] .colab-df-convert:hover {\n",
              "      background-color: #434B5C;\n",
              "      box-shadow: 0px 1px 3px 1px rgba(0, 0, 0, 0.15);\n",
              "      filter: drop-shadow(0px 1px 2px rgba(0, 0, 0, 0.3));\n",
              "      fill: #FFFFFF;\n",
              "    }\n",
              "  </style>\n",
              "\n",
              "      <script>\n",
              "        const buttonEl =\n",
              "          document.querySelector('#df-246a9d8d-e464-4af1-8ca7-fcf53b38f95b button.colab-df-convert');\n",
              "        buttonEl.style.display =\n",
              "          google.colab.kernel.accessAllowed ? 'block' : 'none';\n",
              "\n",
              "        async function convertToInteractive(key) {\n",
              "          const element = document.querySelector('#df-246a9d8d-e464-4af1-8ca7-fcf53b38f95b');\n",
              "          const dataTable =\n",
              "            await google.colab.kernel.invokeFunction('convertToInteractive',\n",
              "                                                     [key], {});\n",
              "          if (!dataTable) return;\n",
              "\n",
              "          const docLinkHtml = 'Like what you see? Visit the ' +\n",
              "            '<a target=\"_blank\" href=https://colab.research.google.com/notebooks/data_table.ipynb>data table notebook</a>'\n",
              "            + ' to learn more about interactive tables.';\n",
              "          element.innerHTML = '';\n",
              "          dataTable['output_type'] = 'display_data';\n",
              "          await google.colab.output.renderOutput(dataTable, element);\n",
              "          const docLink = document.createElement('div');\n",
              "          docLink.innerHTML = docLinkHtml;\n",
              "          element.appendChild(docLink);\n",
              "        }\n",
              "      </script>\n",
              "    </div>\n",
              "  </div>\n",
              "  "
            ]
          },
          "metadata": {},
          "execution_count": 217
        }
      ],
      "source": [
        "df.head()"
      ]
    },
    {
      "cell_type": "markdown",
      "metadata": {
        "id": "qvLBCyiye5Sq"
      },
      "source": [
        "# getting data information"
      ]
    },
    {
      "cell_type": "code",
      "execution_count": 218,
      "metadata": {
        "colab": {
          "base_uri": "https://localhost:8080/"
        },
        "id": "hC5ozBwDfDfI",
        "outputId": "f071ccb4-4277-432b-87c9-f83b52e709c8"
      },
      "outputs": [
        {
          "output_type": "stream",
          "name": "stdout",
          "text": [
            "<class 'pandas.core.frame.DataFrame'>\n",
            "RangeIndex: 119390 entries, 0 to 119389\n",
            "Data columns (total 32 columns):\n",
            " #   Column                          Non-Null Count   Dtype  \n",
            "---  ------                          --------------   -----  \n",
            " 0   hotel                           119390 non-null  object \n",
            " 1   is_canceled                     119390 non-null  int64  \n",
            " 2   lead_time                       119390 non-null  int64  \n",
            " 3   arrival_date_year               119390 non-null  int64  \n",
            " 4   arrival_date_month              119390 non-null  object \n",
            " 5   arrival_date_week_number        119390 non-null  int64  \n",
            " 6   arrival_date_day_of_month       119390 non-null  int64  \n",
            " 7   stays_in_weekend_nights         119390 non-null  int64  \n",
            " 8   stays_in_week_nights            119390 non-null  int64  \n",
            " 9   adults                          119390 non-null  int64  \n",
            " 10  children                        119386 non-null  float64\n",
            " 11  babies                          119390 non-null  int64  \n",
            " 12  meal                            119390 non-null  object \n",
            " 13  country                         118902 non-null  object \n",
            " 14  market_segment                  119390 non-null  object \n",
            " 15  distribution_channel            119390 non-null  object \n",
            " 16  is_repeated_guest               119390 non-null  int64  \n",
            " 17  previous_cancellations          119390 non-null  int64  \n",
            " 18  previous_bookings_not_canceled  119390 non-null  int64  \n",
            " 19  reserved_room_type              119390 non-null  object \n",
            " 20  assigned_room_type              119390 non-null  object \n",
            " 21  booking_changes                 119390 non-null  int64  \n",
            " 22  deposit_type                    119390 non-null  object \n",
            " 23  agent                           103050 non-null  float64\n",
            " 24  company                         6797 non-null    float64\n",
            " 25  days_in_waiting_list            119390 non-null  int64  \n",
            " 26  customer_type                   119390 non-null  object \n",
            " 27  adr                             119390 non-null  float64\n",
            " 28  required_car_parking_spaces     119390 non-null  int64  \n",
            " 29  total_of_special_requests       119390 non-null  int64  \n",
            " 30  reservation_status              119390 non-null  object \n",
            " 31  reservation_status_date         119390 non-null  object \n",
            "dtypes: float64(4), int64(16), object(12)\n",
            "memory usage: 29.1+ MB\n"
          ]
        }
      ],
      "source": [
        "df.info()"
      ]
    },
    {
      "cell_type": "code",
      "execution_count": 85,
      "metadata": {
        "id": "WyzpgUMdf3Tg"
      },
      "outputs": [],
      "source": []
    },
    {
      "cell_type": "markdown",
      "metadata": {
        "id": "KCXcpF_dggcd"
      },
      "source": [
        "# data cleaning\n"
      ]
    },
    {
      "cell_type": "code",
      "execution_count": 219,
      "metadata": {
        "colab": {
          "base_uri": "https://localhost:8080/"
        },
        "id": "JaEDq0imiDny",
        "outputId": "3099b6c1-dacb-4c57-8c8c-35f452fbd389"
      },
      "outputs": [
        {
          "output_type": "stream",
          "name": "stdout",
          "text": [
            "children         4\n",
            "country        488\n",
            "agent        16340\n",
            "company     112593\n",
            "dtype: int64\n"
          ]
        }
      ],
      "source": [
        "nullArray = df.isnull().sum()\n",
        "nullArray = nullArray[nullArray > 0]\n",
        "print(nullArray)"
      ]
    },
    {
      "cell_type": "code",
      "execution_count": 220,
      "metadata": {
        "colab": {
          "base_uri": "https://localhost:8080/"
        },
        "id": "FXm04-yEphCE",
        "outputId": "53d8e2e9-c8b9-467a-8d23-750c96b9156c"
      },
      "outputs": [
        {
          "output_type": "execute_result",
          "data": {
            "text/plain": [
              "children     0.003350\n",
              "country      0.408744\n",
              "agent       13.686238\n",
              "company     94.306893\n",
              "dtype: float64"
            ]
          },
          "metadata": {},
          "execution_count": 220
        }
      ],
      "source": [
        "df_null = df.isnull().sum()/len(df)*100\n",
        "df_null = df_null[df_null>0]\n",
        "df_null"
      ]
    },
    {
      "cell_type": "code",
      "execution_count": 221,
      "metadata": {
        "colab": {
          "base_uri": "https://localhost:8080/"
        },
        "id": "e89a2Kg8hlvN",
        "outputId": "5eaacffd-898e-4c11-c521-79894106ecf0"
      },
      "outputs": [
        {
          "output_type": "stream",
          "name": "stdout",
          "text": [
            "0.0     110796\n",
            "1.0       4861\n",
            "2.0       3652\n",
            "3.0         76\n",
            "10.0         1\n",
            "Name: children, dtype: int64\n"
          ]
        }
      ],
      "source": [
        "#filling children,since most booking has zero children ,so we fill children as 0\n",
        "print(df['children'].value_counts())\n",
        "df['children'].fillna(0, inplace=True)"
      ]
    },
    {
      "cell_type": "code",
      "execution_count": 222,
      "metadata": {
        "id": "7Z-T8ji7jr4u"
      },
      "outputs": [],
      "source": [
        "#df['country'].value_counts() since there are 177 different country values, it is not ideal to assgin null to any one of them\n",
        "df['country'].fillna('unknown', inplace=True)"
      ]
    },
    {
      "cell_type": "code",
      "execution_count": 223,
      "metadata": {
        "colab": {
          "base_uri": "https://localhost:8080/"
        },
        "id": "na26Z-y7kht_",
        "outputId": "c25c48a8-3f48-49ef-bf04-b7d71e9295e1"
      },
      "outputs": [
        {
          "output_type": "stream",
          "name": "stdout",
          "text": [
            "the null rate of company roll is  0.943068933746545 so we decide to delete this category\n"
          ]
        }
      ],
      "source": [
        "print(\"the null rate of company roll is \",1-df['company'].count()/df['company'].size,'so we decide to delete this category')\n",
        "df.drop('company', axis=1, inplace=True)"
      ]
    },
    {
      "cell_type": "code",
      "execution_count": 224,
      "metadata": {
        "id": "SHF1MShplczg"
      },
      "outputs": [],
      "source": [
        "#probably booking with people themselves，so replace null with new category 0\n",
        "df['agent'].fillna(0.0, inplace=True)"
      ]
    },
    {
      "cell_type": "code",
      "execution_count": 225,
      "metadata": {
        "id": "OQp5EcR6nWia"
      },
      "outputs": [],
      "source": [
        "#data description says sc = undefined\n",
        "df[\"meal\"].replace(\"Undefined\", \"SC\", inplace=True)"
      ]
    },
    {
      "cell_type": "code",
      "execution_count": 226,
      "metadata": {
        "id": "YwvFJ8kFoDjv"
      },
      "outputs": [],
      "source": [
        "noAdults = df.loc[df[\"adults\"]==0].index\n",
        "df.drop(df.index[noAdults], inplace=True)"
      ]
    },
    {
      "cell_type": "code",
      "execution_count": 227,
      "metadata": {
        "colab": {
          "base_uri": "https://localhost:8080/"
        },
        "id": "2RcxesNDrKl_",
        "outputId": "b46202c1-7aa2-4947-b3e3-efb86c43db93"
      },
      "outputs": [
        {
          "output_type": "execute_result",
          "data": {
            "text/plain": [
              "hotel                             0\n",
              "is_canceled                       0\n",
              "lead_time                         0\n",
              "arrival_date_year                 0\n",
              "arrival_date_month                0\n",
              "arrival_date_week_number          0\n",
              "arrival_date_day_of_month         0\n",
              "stays_in_weekend_nights           0\n",
              "stays_in_week_nights              0\n",
              "adults                            0\n",
              "children                          0\n",
              "babies                            0\n",
              "meal                              0\n",
              "country                           0\n",
              "market_segment                    0\n",
              "distribution_channel              0\n",
              "is_repeated_guest                 0\n",
              "previous_cancellations            0\n",
              "previous_bookings_not_canceled    0\n",
              "reserved_room_type                0\n",
              "assigned_room_type                0\n",
              "booking_changes                   0\n",
              "deposit_type                      0\n",
              "agent                             0\n",
              "days_in_waiting_list              0\n",
              "customer_type                     0\n",
              "adr                               0\n",
              "required_car_parking_spaces       0\n",
              "total_of_special_requests         0\n",
              "reservation_status                0\n",
              "reservation_status_date           0\n",
              "dtype: int64"
            ]
          },
          "metadata": {},
          "execution_count": 227
        }
      ],
      "source": [
        "# There is no null value now\n",
        "df.isnull().sum()"
      ]
    },
    {
      "cell_type": "code",
      "execution_count": 228,
      "metadata": {
        "colab": {
          "base_uri": "https://localhost:8080/"
        },
        "id": "NfuPw4Elb649",
        "outputId": "1166f1a6-1aa6-4715-c3db-7c7e81e5d5c5"
      },
      "outputs": [
        {
          "output_type": "execute_result",
          "data": {
            "text/plain": [
              "(118987, 31)"
            ]
          },
          "metadata": {},
          "execution_count": 228
        }
      ],
      "source": [
        "df.shape"
      ]
    },
    {
      "cell_type": "code",
      "execution_count": 229,
      "metadata": {
        "id": "1e3kElvucDYG"
      },
      "outputs": [],
      "source": [
        "# Original DataFrame has 119390 entries. We eliminated 403 rows."
      ]
    },
    {
      "cell_type": "code",
      "execution_count": 230,
      "metadata": {
        "colab": {
          "base_uri": "https://localhost:8080/"
        },
        "id": "N7v4NPNXcJ55",
        "outputId": "48a7d6f7-90a4-4064-fef1-ff5d71f8383e"
      },
      "outputs": [
        {
          "output_type": "execute_result",
          "data": {
            "text/plain": [
              "403"
            ]
          },
          "metadata": {},
          "execution_count": 230
        }
      ],
      "source": [
        "119390 - 118987"
      ]
    },
    {
      "cell_type": "code",
      "execution_count": 231,
      "metadata": {
        "colab": {
          "base_uri": "https://localhost:8080/"
        },
        "id": "n9USONQfqmqL",
        "outputId": "e7d07717-00b3-46e5-a9a8-fccd07964b53"
      },
      "outputs": [
        {
          "output_type": "execute_result",
          "data": {
            "text/plain": [
              "31983"
            ]
          },
          "metadata": {},
          "execution_count": 231
        }
      ],
      "source": [
        "# Remove duplicate entries\n",
        "\n",
        "df.duplicated().sum()"
      ]
    },
    {
      "cell_type": "markdown",
      "metadata": {
        "id": "g3xXUR8csIVE"
      },
      "source": [
        "Check the types of variables in our dataset\n"
      ]
    },
    {
      "cell_type": "code",
      "execution_count": 232,
      "metadata": {
        "colab": {
          "base_uri": "https://localhost:8080/"
        },
        "id": "z8Kynif_sM_N",
        "outputId": "952414bf-efa7-480d-a37a-ec52af6926e6"
      },
      "outputs": [
        {
          "output_type": "stream",
          "name": "stdout",
          "text": [
            "['hotel', 'arrival_date_month', 'meal', 'country', 'market_segment', 'distribution_channel', 'reserved_room_type', 'assigned_room_type', 'deposit_type', 'customer_type', 'reservation_status', 'reservation_status_date']\n"
          ]
        },
        {
          "output_type": "execute_result",
          "data": {
            "text/plain": [
              "12"
            ]
          },
          "metadata": {},
          "execution_count": 232
        }
      ],
      "source": [
        "Categorical_Var_list = []\n",
        "for i in df.columns:\n",
        "  if df[i].dtypes == 'object':\n",
        "    Categorical_Var_list.append(i)\n",
        "print(Categorical_Var_list) \n",
        "len(Categorical_Var_list)"
      ]
    },
    {
      "cell_type": "markdown",
      "metadata": {
        "id": "8QCarfNk-fFf"
      },
      "source": [
        "### Note that 'agent' is also a categorical variable. But it is already encoded since this column is the ID of the agent"
      ]
    },
    {
      "cell_type": "markdown",
      "metadata": {
        "id": "MWO8Gv6VtK7t"
      },
      "source": [
        "**There are 12 categorical variables**"
      ]
    },
    {
      "cell_type": "code",
      "execution_count": 233,
      "metadata": {
        "colab": {
          "base_uri": "https://localhost:8080/"
        },
        "id": "y9Cqw2-6tqaR",
        "outputId": "7c919453-48c7-41b9-c0b8-8a73f14b346d"
      },
      "outputs": [
        {
          "output_type": "stream",
          "name": "stdout",
          "text": [
            "hotel\n",
            "City Hotel      78940\n",
            "Resort Hotel    40047\n",
            "Name: hotel, dtype: int64\n",
            "-----------------------\n",
            "arrival_date_month\n",
            "August       13829\n",
            "July         12611\n",
            "May          11764\n",
            "October      11131\n",
            "April        11057\n",
            "June         10917\n",
            "September    10489\n",
            "March         9751\n",
            "February      8034\n",
            "November      6765\n",
            "December      6736\n",
            "January       5903\n",
            "Name: arrival_date_month, dtype: int64\n",
            "-----------------------\n",
            "meal\n",
            "BB    92020\n",
            "HB    14454\n",
            "SC    11715\n",
            "FB      798\n",
            "Name: meal, dtype: int64\n",
            "-----------------------\n",
            "country\n",
            "PRT    48440\n",
            "GBR    12105\n",
            "FRA    10376\n",
            "ESP     8546\n",
            "DEU     7271\n",
            "       ...  \n",
            "DJI        1\n",
            "BWA        1\n",
            "HND        1\n",
            "VGB        1\n",
            "NAM        1\n",
            "Name: country, Length: 178, dtype: int64\n",
            "-----------------------\n",
            "market_segment\n",
            "Online TA        56221\n",
            "Offline TA/TO    24179\n",
            "Groups           19791\n",
            "Direct           12553\n",
            "Corporate         5282\n",
            "Complementary      724\n",
            "Aviation           235\n",
            "Undefined            2\n",
            "Name: market_segment, dtype: int64\n",
            "-----------------------\n",
            "distribution_channel\n",
            "TA/TO        97560\n",
            "Direct       14578\n",
            "Corporate     6651\n",
            "GDS            193\n",
            "Undefined        5\n",
            "Name: distribution_channel, dtype: int64\n",
            "-----------------------\n",
            "reserved_room_type\n",
            "A    85863\n",
            "D    19178\n",
            "E     6518\n",
            "F     2892\n",
            "G     2091\n",
            "C      931\n",
            "B      907\n",
            "H      601\n",
            "L        6\n",
            "Name: reserved_room_type, dtype: int64\n",
            "-----------------------\n",
            "assigned_room_type\n",
            "A    73983\n",
            "D    25306\n",
            "E     7798\n",
            "F     3751\n",
            "G     2548\n",
            "C     2370\n",
            "B     1972\n",
            "H      712\n",
            "I      359\n",
            "K      187\n",
            "L        1\n",
            "Name: assigned_room_type, dtype: int64\n",
            "-----------------------\n",
            "deposit_type\n",
            "No Deposit    104238\n",
            "Non Refund     14587\n",
            "Refundable       162\n",
            "Name: deposit_type, dtype: int64\n",
            "-----------------------\n",
            "customer_type\n",
            "Transient          89337\n",
            "Transient-Party    25006\n",
            "Contract            4071\n",
            "Group                573\n",
            "Name: customer_type, dtype: int64\n",
            "-----------------------\n",
            "reservation_status\n",
            "Check-Out    74872\n",
            "Canceled     42912\n",
            "No-Show       1203\n",
            "Name: reservation_status, dtype: int64\n",
            "-----------------------\n",
            "reservation_status_date\n",
            "2015-10-21    1460\n",
            "2015-07-06     805\n",
            "2016-11-25     790\n",
            "2015-01-01     763\n",
            "2016-01-18     624\n",
            "              ... \n",
            "2015-02-27       1\n",
            "2015-04-25       1\n",
            "2015-03-11       1\n",
            "2015-06-14       1\n",
            "2015-02-12       1\n",
            "Name: reservation_status_date, Length: 926, dtype: int64\n",
            "-----------------------\n"
          ]
        }
      ],
      "source": [
        "# Check the value in these 12 categorical variables\n",
        "for i in Categorical_Var_list:\n",
        "  print(i)\n",
        "  print(df[i].value_counts())\n",
        "  print('-----------------------')\n"
      ]
    },
    {
      "cell_type": "markdown",
      "metadata": {
        "id": "UgFYZ6EUzQ_e"
      },
      "source": [
        "**All these 12 categorical variables are not ordinal except reservation_status_date**"
      ]
    },
    {
      "cell_type": "markdown",
      "metadata": {
        "id": "-vBdVEyQtKah"
      },
      "source": []
    },
    {
      "cell_type": "markdown",
      "metadata": {
        "id": "vKmPeMC1ghJA"
      },
      "source": [
        "# decriptive analysis\n"
      ]
    },
    {
      "cell_type": "code",
      "execution_count": null,
      "metadata": {
        "colab": {
          "base_uri": "https://localhost:8080/"
        },
        "id": "zMHUDLVDqI1j",
        "outputId": "bd3014b2-3fb9-4ace-eeb5-9c92602214b9"
      },
      "outputs": [
        {
          "data": {
            "text/plain": [
              "(74872, 31)"
            ]
          },
          "execution_count": 41,
          "metadata": {},
          "output_type": "execute_result"
        }
      ],
      "source": [
        "#we want to know the information of the guest that actually visited\n",
        "visited = df.loc[df['is_canceled'] == 0]\n",
        "visited.shape"
      ]
    },
    {
      "cell_type": "code",
      "execution_count": null,
      "metadata": {
        "colab": {
          "base_uri": "https://localhost:8080/"
        },
        "id": "UbKK2ntMq-mN",
        "outputId": "6b029542-e97c-46fc-b5a4-26a56525fbbd"
      },
      "outputs": [
        {
          "data": {
            "text/plain": [
              "Index(['hotel', 'is_canceled', 'lead_time', 'arrival_date_year',\n",
              "       'arrival_date_month', 'arrival_date_week_number',\n",
              "       'arrival_date_day_of_month', 'stays_in_weekend_nights',\n",
              "       'stays_in_week_nights', 'adults', 'children', 'babies', 'meal',\n",
              "       'country', 'market_segment', 'distribution_channel',\n",
              "       'is_repeated_guest', 'previous_cancellations',\n",
              "       'previous_bookings_not_canceled', 'reserved_room_type',\n",
              "       'assigned_room_type', 'booking_changes', 'deposit_type', 'agent',\n",
              "       'days_in_waiting_list', 'customer_type', 'adr',\n",
              "       'required_car_parking_spaces', 'total_of_special_requests',\n",
              "       'reservation_status', 'reservation_status_date'],\n",
              "      dtype='object')"
            ]
          },
          "execution_count": 83,
          "metadata": {},
          "output_type": "execute_result"
        }
      ],
      "source": [
        "visited.columns"
      ]
    },
    {
      "cell_type": "markdown",
      "metadata": {
        "id": "d8-Q909DfroQ"
      },
      "source": [
        "Overall Cancellation"
      ]
    },
    {
      "cell_type": "code",
      "execution_count": null,
      "metadata": {
        "colab": {
          "base_uri": "https://localhost:8080/",
          "height": 297
        },
        "id": "i8LJ6Gs8ffMz",
        "outputId": "87f7abda-8033-4f9e-b889-977000f82d9a"
      },
      "outputs": [
        {
          "data": {
            "text/plain": [
              "<AxesSubplot:xlabel='is_canceled', ylabel='count'>"
            ]
          },
          "execution_count": 37,
          "metadata": {},
          "output_type": "execute_result"
        },
        {
          "data": {
            "image/png": "[encoded data removed]",
            "text/plain": [
              "<Figure size 432x288 with 1 Axes>"
            ]
          },
          "metadata": {},
          "output_type": "display_data"
        }
      ],
      "source": [
        "sns.countplot( x = 'is_canceled', data = df)"
      ]
    },
    {
      "cell_type": "markdown",
      "metadata": {
        "id": "3bzqEW4xfurZ"
      },
      "source": [
        "Cancellation Groupby hotel Type"
      ]
    },
    {
      "cell_type": "code",
      "execution_count": null,
      "metadata": {
        "colab": {
          "base_uri": "https://localhost:8080/",
          "height": 296
        },
        "id": "GWal4oBGfxwz",
        "outputId": "e71cf313-5c9c-434a-9ad6-c9bb0c6553ab"
      },
      "outputs": [
        {
          "data": {
            "text/plain": [
              "<AxesSubplot:xlabel='hotel', ylabel='count'>"
            ]
          },
          "execution_count": 39,
          "metadata": {},
          "output_type": "execute_result"
        },
        {
          "data": {
            "image/png": "[encoded data removed]",
            "text/plain": [
              "<Figure size 432x288 with 1 Axes>"
            ]
          },
          "metadata": {},
          "output_type": "display_data"
        }
      ],
      "source": [
        "sns.countplot(x = 'hotel',hue = 'is_canceled', data = df)"
      ]
    },
    {
      "cell_type": "code",
      "execution_count": null,
      "metadata": {
        "colab": {
          "base_uri": "https://localhost:8080/"
        },
        "id": "B6k5QuH0g101",
        "outputId": "432e142a-0f5c-461b-fce1-471e85e250f5"
      },
      "outputs": [
        {
          "data": {
            "text/plain": [
              "hotel         is_canceled\n",
              "City Hotel    0              45945\n",
              "              1              32995\n",
              "Resort Hotel  0              28927\n",
              "              1              11120\n",
              "Name: is_canceled, dtype: int64"
            ]
          },
          "execution_count": 46,
          "metadata": {},
          "output_type": "execute_result"
        }
      ],
      "source": [
        "df.groupby('hotel')['is_canceled'].value_counts()"
      ]
    },
    {
      "cell_type": "markdown",
      "metadata": {
        "id": "s6wt1HI6hIDF"
      },
      "source": [
        "City Hotel has higher proportion of cancellation"
      ]
    },
    {
      "cell_type": "markdown",
      "metadata": {
        "id": "b6aLstI1q0oF"
      },
      "source": [
        "Question 1: what is the top overall travel season?"
      ]
    },
    {
      "cell_type": "code",
      "execution_count": null,
      "metadata": {
        "colab": {
          "base_uri": "https://localhost:8080/",
          "height": 334
        },
        "id": "E1zRJyzEqIdJ",
        "outputId": "7ae52a66-fd37-4c89-9fca-24232291508b"
      },
      "outputs": [
        {
          "data": {
            "image/png": "[encoded data removed]",
            "text/plain": [
              "<Figure size 864x360 with 1 Axes>"
            ]
          },
          "metadata": {},
          "output_type": "display_data"
        }
      ],
      "source": [
        "fig = plt.figure(figsize=(12, 5))\n",
        "visited['arrival_date_month'].hist()\n",
        "plt.xlabel('Month')\n",
        "plt.ylabel('people count')\n",
        "plt.show()"
      ]
    },
    {
      "cell_type": "code",
      "execution_count": null,
      "metadata": {
        "colab": {
          "base_uri": "https://localhost:8080/",
          "height": 238
        },
        "id": "V_q3MDZ0sjw0",
        "outputId": "5b7b5019-8894-44d0-f7b3-fbab879580a4"
      },
      "outputs": [
        {
          "data": {
            "image/png": "[encoded data removed]",
            "text/plain": [
              "<Figure size 1728x288 with 2 Axes>"
            ]
          },
          "metadata": {},
          "output_type": "display_data"
        }
      ],
      "source": [
        "hotel_type = visited['hotel'].unique()\n",
        "fig, axes = plt.subplots(nrows=1, ncols=len(hotel_type), figsize=(24, 4))\n",
        "for i,value in enumerate(hotel_type):\n",
        "  visited.loc[visited['hotel'] == value]['arrival_date_month'].hist(ax=axes[i])\n",
        "  axes[i].set_title('people count of Column {}'.format(value))\n",
        "  axes[i].set_xlabel('Month')\n",
        "  axes[i].set_ylabel('people count')"
      ]
    },
    {
      "cell_type": "markdown",
      "metadata": {
        "id": "7jtXa9VScxDe"
      },
      "source": [
        "what kind of the hotel does people with most likely to go?\n"
      ]
    },
    {
      "cell_type": "code",
      "execution_count": null,
      "metadata": {
        "colab": {
          "base_uri": "https://localhost:8080/"
        },
        "id": "vLdTBu2Xc4U_",
        "outputId": "4b3562c6-5f69-449e-da2e-7c3afc58e869"
      },
      "outputs": [
        {
          "data": {
            "text/plain": [
              "array(['Resort Hotel', 'City Hotel'], dtype=object)"
            ]
          },
          "execution_count": 31,
          "metadata": {},
          "output_type": "execute_result"
        }
      ],
      "source": [
        "df['hotel'].unique()"
      ]
    },
    {
      "cell_type": "code",
      "execution_count": null,
      "metadata": {
        "colab": {
          "base_uri": "https://localhost:8080/"
        },
        "id": "Ct73RmcYdfrW",
        "outputId": "cd03e202-7aef-4fad-8ceb-d8e22a99395f"
      },
      "outputs": [
        {
          "data": {
            "text/plain": [
              "City Hotel      45945\n",
              "Resort Hotel    28927\n",
              "Name: hotel, dtype: int64"
            ]
          },
          "execution_count": 43,
          "metadata": {},
          "output_type": "execute_result"
        }
      ],
      "source": [
        "visited['hotel'].value_counts()"
      ]
    },
    {
      "cell_type": "code",
      "execution_count": null,
      "metadata": {
        "colab": {
          "base_uri": "https://localhost:8080/",
          "height": 296
        },
        "id": "fpWKZc1texk5",
        "outputId": "ce0a609a-c359-483d-c954-ebbcd2cffc19"
      },
      "outputs": [
        {
          "data": {
            "text/plain": [
              "<AxesSubplot:xlabel='hotel', ylabel='count'>"
            ]
          },
          "execution_count": 42,
          "metadata": {},
          "output_type": "execute_result"
        },
        {
          "data": {
            "image/png": "[encoded data removed]",
            "text/plain": [
              "<Figure size 432x288 with 1 Axes>"
            ]
          },
          "metadata": {},
          "output_type": "display_data"
        }
      ],
      "source": [
        "sns.countplot( x = 'hotel', data = visited)"
      ]
    },
    {
      "cell_type": "markdown",
      "metadata": {
        "id": "fQbdneoivoeN"
      },
      "source": [
        "what kind of the hotel does people with children most likely to go?"
      ]
    },
    {
      "cell_type": "code",
      "execution_count": null,
      "metadata": {
        "colab": {
          "base_uri": "https://localhost:8080/",
          "height": 334
        },
        "id": "dwhb4LvFvtGz",
        "outputId": "6fc888e1-fe05-4037-f847-8e21f455f77a"
      },
      "outputs": [
        {
          "data": {
            "image/png": "[encoded data removed]",
            "text/plain": [
              "<Figure size 432x288 with 1 Axes>"
            ]
          },
          "metadata": {},
          "output_type": "display_data"
        }
      ],
      "source": [
        "withBaby = visited.loc[visited['children']+ visited['babies'] >0]\n",
        "fig = plt.figure(figsize=(6, 4))\n",
        "hotelPreferRate = withBaby['hotel'].value_counts(normalize = True)\n",
        "ax = hotelPreferRate.plot(kind = 'bar')\n",
        "ax.set_xlabel('Values', rotation=0)\n",
        "plt.show()"
      ]
    },
    {
      "cell_type": "markdown",
      "metadata": {
        "id": "NCVaJDwz0Goi"
      },
      "source": [
        "should hotel prepare more children stuff in specific month?"
      ]
    },
    {
      "cell_type": "code",
      "execution_count": null,
      "metadata": {
        "colab": {
          "base_uri": "https://localhost:8080/",
          "height": 238
        },
        "id": "xx4846sSz126",
        "outputId": "a2198a37-b5b7-491a-a493-d5ddd4d40ee6"
      },
      "outputs": [
        {
          "data": {
            "image/png": "[encoded data removed]",
            "text/plain": [
              "<Figure size 1728x288 with 2 Axes>"
            ]
          },
          "metadata": {},
          "output_type": "display_data"
        }
      ],
      "source": [
        "fig, axes = plt.subplots(nrows=1, ncols=len(hotel_type), figsize=(24, 4))\n",
        "for i,value in enumerate(withBaby['hotel'].unique()):\n",
        "  withBaby.loc[withBaby['hotel'] == value]['arrival_date_month'].hist(ax=axes[i])\n",
        "  axes[i].set_title('people count of Column {}'.format(value))\n",
        "  axes[i].set_xlabel('Month')\n",
        "  axes[i].set_ylabel('people count')"
      ]
    },
    {
      "cell_type": "markdown",
      "metadata": {
        "id": "WgxJYryvi5Tx"
      },
      "source": [
        "does specific year affect which month people want to travel?"
      ]
    },
    {
      "cell_type": "code",
      "execution_count": null,
      "metadata": {
        "colab": {
          "base_uri": "https://localhost:8080/",
          "height": 544
        },
        "id": "_8G_MSDaY996",
        "outputId": "9861458c-c7ca-4c6f-c866-389c6a7f921c"
      },
      "outputs": [
        {
          "data": {
            "text/plain": [
              "arrival_date_year  arrival_date_month\n",
              "2015               October               3218\n",
              "                   September             3016\n",
              "                   August                2281\n",
              "                   December              1935\n",
              "                   November              1851\n",
              "                   July                  1515\n",
              "2016               October               3669\n",
              "                   May                   3554\n",
              "                   September             3365\n",
              "                   April                 3359\n",
              "                   March                 3337\n",
              "                   August                3214\n",
              "                   June                  3188\n",
              "                   July                  3053\n",
              "                   November              2799\n",
              "                   February              2539\n",
              "                   December              2442\n",
              "                   January               1683\n",
              "2017               May                   3541\n",
              "                   July                  3316\n",
              "                   March                 3277\n",
              "                   June                  3198\n",
              "                   April                 3188\n",
              "                   August                3108\n",
              "                   February              2808\n",
              "                   January               2418\n",
              "Name: arrival_date_month, dtype: int64"
            ]
          },
          "execution_count": 88,
          "metadata": {},
          "output_type": "execute_result"
        },
        {
          "data": {
            "text/plain": [
              "<Figure size 864x360 with 0 Axes>"
            ]
          },
          "metadata": {},
          "output_type": "display_data"
        }
      ],
      "source": [
        "from pandas.core.base import value_counts\n",
        "fig = plt.figure(figsize=(12, 5))\n",
        "visited.groupby('arrival_date_year')['arrival_date_month'].value_counts()"
      ]
    },
    {
      "cell_type": "code",
      "execution_count": null,
      "metadata": {
        "colab": {
          "base_uri": "https://localhost:8080/",
          "height": 238
        },
        "id": "sgln-FVFiXNa",
        "outputId": "f011209d-edc6-470d-9958-beaaf4a2ae2b"
      },
      "outputs": [
        {
          "data": {
            "image/png": "[encoded data removed]",
            "text/plain": [
              "<Figure size 1728x288 with 3 Axes>"
            ]
          },
          "metadata": {},
          "output_type": "display_data"
        }
      ],
      "source": [
        "fig, axes = plt.subplots(nrows=1, ncols=3, figsize=(24, 4))\n",
        "for i,value in enumerate(visited['arrival_date_year'].unique()):\n",
        "  visited.loc[visited['arrival_date_year'] == value]['arrival_date_month'].hist(ax=axes[i])\n",
        "  axes[i].set_title('people count of Column {}'.format(value))\n",
        "  axes[i].set_xlabel('Month')\n",
        "  axes[i].set_ylabel('people count')"
      ]
    },
    {
      "cell_type": "markdown",
      "metadata": {
        "id": "Q3FQNS8yY-uJ"
      },
      "source": [
        "does people prefer to arrive at particular day?"
      ]
    },
    {
      "cell_type": "code",
      "execution_count": null,
      "metadata": {
        "colab": {
          "base_uri": "https://localhost:8080/",
          "height": 320
        },
        "id": "G9Oi_0yRamXG",
        "outputId": "f55e3205-b29a-4ba1-afd0-462ac2a4a108"
      },
      "outputs": [
        {
          "data": {
            "image/png": "[encoded data removed]",
            "text/plain": [
              "<Figure size 864x360 with 1 Axes>"
            ]
          },
          "metadata": {},
          "output_type": "display_data"
        }
      ],
      "source": [
        "fig = plt.figure(figsize=(12, 5))\n",
        "visited['arrival_date_day_of_month'].hist()\n",
        "# plt.xlabel('Month')\n",
        "# plt.ylabel('people count')\n",
        "plt.show()"
      ]
    },
    {
      "cell_type": "markdown",
      "metadata": {
        "id": "MH-ViUjdgOf3"
      },
      "source": [
        "which country is more porpular? "
      ]
    },
    {
      "cell_type": "code",
      "execution_count": null,
      "metadata": {
        "colab": {
          "base_uri": "https://localhost:8080/",
          "height": 303
        },
        "id": "QoHvfuPbb1JD",
        "outputId": "aa6a444e-374d-4b29-9fbb-0f3b20deca5c"
      },
      "outputs": [
        {
          "data": {
            "image/png": "[encoded data removed]",
            "text/plain": [
              "<Figure size 864x360 with 1 Axes>"
            ]
          },
          "metadata": {},
          "output_type": "display_data"
        }
      ],
      "source": [
        "s = visited['country'].value_counts()>500\n",
        "idx = s[s.array == True].index\n",
        "porpularCountries = visited[visited['country'].isin(idx)]['country'].value_counts()\n",
        "# print(porpularCountries)\n",
        "fig = plt.figure(figsize=(12, 5))\n",
        "ax = porpularCountries.plot(kind = 'pie')\n",
        "plt.show()"
      ]
    },
    {
      "cell_type": "markdown",
      "metadata": {
        "id": "YGsTPvbWhu3-"
      },
      "source": [
        "what month does people typicaly come in"
      ]
    },
    {
      "cell_type": "code",
      "execution_count": null,
      "metadata": {
        "colab": {
          "base_uri": "https://localhost:8080/",
          "height": 463
        },
        "id": "me1Q743_Y-Ig",
        "outputId": "03b8aeaa-28e1-4034-9cb1-3274f484f881"
      },
      "outputs": [
        {
          "data": {
            "text/plain": [
              "<function matplotlib.pyplot.show(close=None, block=None)>"
            ]
          },
          "execution_count": 48,
          "metadata": {},
          "output_type": "execute_result"
        },
        {
          "data": {
            "image/png": "[encoded data removed]",
            "text/plain": [
              "<Figure size 1080x432 with 1 Axes>"
            ]
          },
          "metadata": {},
          "output_type": "display_data"
        }
      ],
      "source": [
        "df_year = df.groupby(['arrival_date_month']).agg({'hotel':'count'}).reset_index()\n",
        "\n",
        "plt.figure(figsize=(15,6))\n",
        "sns.lineplot(x = \"arrival_date_month\",y = 'hotel', data = df_year, color = 'blue' )\n",
        "plt.xticks(rotation = 60)\n",
        "plt.title('Monthly arrivals', )\n",
        "plt.xlabel('Months')\n",
        "plt.ylabel('Number of bookings')\n",
        "plt.show"
      ]
    },
    {
      "cell_type": "markdown",
      "metadata": {
        "id": "bHs1qszOjNsV"
      },
      "source": [
        "See the Length of Stay"
      ]
    },
    {
      "cell_type": "code",
      "execution_count": null,
      "metadata": {
        "id": "aWFcNO28jRpE"
      },
      "outputs": [],
      "source": [
        "df['total_stayNights'] = df['stays_in_week_nights'] + df['stays_in_weekend_nights']"
      ]
    },
    {
      "cell_type": "code",
      "execution_count": null,
      "metadata": {
        "colab": {
          "base_uri": "https://localhost:8080/",
          "height": 638
        },
        "id": "ny2n4JlXjUv4",
        "outputId": "7c768b82-adc3-4eaa-81b1-73590ee95935"
      },
      "outputs": [
        {
          "data": {
            "text/plain": [
              "Text(0, 0.5, 'No. of Bookings')"
            ]
          },
          "execution_count": 54,
          "metadata": {},
          "output_type": "execute_result"
        },
        {
          "data": {
            "image/png": "[encoded data removed]",
            "text/plain": [
              "<Figure size 1440x720 with 1 Axes>"
            ]
          },
          "metadata": {},
          "output_type": "display_data"
        }
      ],
      "source": [
        "fig = plt.figure(figsize = (20,10))\n",
        "sns.countplot(x = 'total_stayNights', data = df.loc[df['is_canceled'] == 0], hue = 'hotel')\n",
        "plt.title('Bookings by Lenght of Stay')\n",
        "plt.xlabel('Length of Stay')\n",
        "plt.ylabel('No. of Bookings')"
      ]
    },
    {
      "cell_type": "code",
      "execution_count": null,
      "metadata": {
        "id": "GxNAG8hM9G_g"
      },
      "outputs": [],
      "source": []
    },
    {
      "cell_type": "markdown",
      "source": [
        "## **Outlier Detection**"
      ],
      "metadata": {
        "id": "WnvlbsPzHK4P"
      }
    },
    {
      "cell_type": "markdown",
      "source": [
        "To preserve the dataset, we create a copy for our original dataset 'df' as 'df1"
      ],
      "metadata": {
        "id": "V1Zoq9JsHwRe"
      }
    },
    {
      "cell_type": "code",
      "source": [
        "df1 = df.copy()\n",
        "df1.head()"
      ],
      "metadata": {
        "colab": {
          "base_uri": "https://localhost:8080/",
          "height": 382
        },
        "id": "sFxPBjRHHvi4",
        "outputId": "9a1ac533-9d17-46ee-91fb-9395b679b4e0"
      },
      "execution_count": 234,
      "outputs": [
        {
          "output_type": "execute_result",
          "data": {
            "text/plain": [
              "          hotel  is_canceled  lead_time  arrival_date_year arrival_date_month  \\\n",
              "0  Resort Hotel            0        342               2015               July   \n",
              "1  Resort Hotel            0        737               2015               July   \n",
              "2  Resort Hotel            0          7               2015               July   \n",
              "3  Resort Hotel            0         13               2015               July   \n",
              "4  Resort Hotel            0         14               2015               July   \n",
              "\n",
              "   arrival_date_week_number  arrival_date_day_of_month  \\\n",
              "0                        27                          1   \n",
              "1                        27                          1   \n",
              "2                        27                          1   \n",
              "3                        27                          1   \n",
              "4                        27                          1   \n",
              "\n",
              "   stays_in_weekend_nights  stays_in_week_nights  adults  ...  \\\n",
              "0                        0                     0       2  ...   \n",
              "1                        0                     0       2  ...   \n",
              "2                        0                     1       1  ...   \n",
              "3                        0                     1       1  ...   \n",
              "4                        0                     2       2  ...   \n",
              "\n",
              "   booking_changes  deposit_type  agent days_in_waiting_list customer_type  \\\n",
              "0                3    No Deposit    0.0                    0     Transient   \n",
              "1                4    No Deposit    0.0                    0     Transient   \n",
              "2                0    No Deposit    0.0                    0     Transient   \n",
              "3                0    No Deposit  304.0                    0     Transient   \n",
              "4                0    No Deposit  240.0                    0     Transient   \n",
              "\n",
              "    adr  required_car_parking_spaces  total_of_special_requests  \\\n",
              "0   0.0                            0                          0   \n",
              "1   0.0                            0                          0   \n",
              "2  75.0                            0                          0   \n",
              "3  75.0                            0                          0   \n",
              "4  98.0                            0                          1   \n",
              "\n",
              "   reservation_status reservation_status_date  \n",
              "0           Check-Out              2015-07-01  \n",
              "1           Check-Out              2015-07-01  \n",
              "2           Check-Out              2015-07-02  \n",
              "3           Check-Out              2015-07-02  \n",
              "4           Check-Out              2015-07-03  \n",
              "\n",
              "[5 rows x 31 columns]"
            ],
            "text/html": [
              "\n",
              "  <div id=\"df-1ec17648-8355-4625-8f57-533b6d095aec\">\n",
              "    <div class=\"colab-df-container\">\n",
              "      <div>\n",
              "<style scoped>\n",
              "    .dataframe tbody tr th:only-of-type {\n",
              "        vertical-align: middle;\n",
              "    }\n",
              "\n",
              "    .dataframe tbody tr th {\n",
              "        vertical-align: top;\n",
              "    }\n",
              "\n",
              "    .dataframe thead th {\n",
              "        text-align: right;\n",
              "    }\n",
              "</style>\n",
              "<table border=\"1\" class=\"dataframe\">\n",
              "  <thead>\n",
              "    <tr style=\"text-align: right;\">\n",
              "      <th></th>\n",
              "      <th>hotel</th>\n",
              "      <th>is_canceled</th>\n",
              "      <th>lead_time</th>\n",
              "      <th>arrival_date_year</th>\n",
              "      <th>arrival_date_month</th>\n",
              "      <th>arrival_date_week_number</th>\n",
              "      <th>arrival_date_day_of_month</th>\n",
              "      <th>stays_in_weekend_nights</th>\n",
              "      <th>stays_in_week_nights</th>\n",
              "      <th>adults</th>\n",
              "      <th>...</th>\n",
              "      <th>booking_changes</th>\n",
              "      <th>deposit_type</th>\n",
              "      <th>agent</th>\n",
              "      <th>days_in_waiting_list</th>\n",
              "      <th>customer_type</th>\n",
              "      <th>adr</th>\n",
              "      <th>required_car_parking_spaces</th>\n",
              "      <th>total_of_special_requests</th>\n",
              "      <th>reservation_status</th>\n",
              "      <th>reservation_status_date</th>\n",
              "    </tr>\n",
              "  </thead>\n",
              "  <tbody>\n",
              "    <tr>\n",
              "      <th>0</th>\n",
              "      <td>Resort Hotel</td>\n",
              "      <td>0</td>\n",
              "      <td>342</td>\n",
              "      <td>2015</td>\n",
              "      <td>July</td>\n",
              "      <td>27</td>\n",
              "      <td>1</td>\n",
              "      <td>0</td>\n",
              "      <td>0</td>\n",
              "      <td>2</td>\n",
              "      <td>...</td>\n",
              "      <td>3</td>\n",
              "      <td>No Deposit</td>\n",
              "      <td>0.0</td>\n",
              "      <td>0</td>\n",
              "      <td>Transient</td>\n",
              "      <td>0.0</td>\n",
              "      <td>0</td>\n",
              "      <td>0</td>\n",
              "      <td>Check-Out</td>\n",
              "      <td>2015-07-01</td>\n",
              "    </tr>\n",
              "    <tr>\n",
              "      <th>1</th>\n",
              "      <td>Resort Hotel</td>\n",
              "      <td>0</td>\n",
              "      <td>737</td>\n",
              "      <td>2015</td>\n",
              "      <td>July</td>\n",
              "      <td>27</td>\n",
              "      <td>1</td>\n",
              "      <td>0</td>\n",
              "      <td>0</td>\n",
              "      <td>2</td>\n",
              "      <td>...</td>\n",
              "      <td>4</td>\n",
              "      <td>No Deposit</td>\n",
              "      <td>0.0</td>\n",
              "      <td>0</td>\n",
              "      <td>Transient</td>\n",
              "      <td>0.0</td>\n",
              "      <td>0</td>\n",
              "      <td>0</td>\n",
              "      <td>Check-Out</td>\n",
              "      <td>2015-07-01</td>\n",
              "    </tr>\n",
              "    <tr>\n",
              "      <th>2</th>\n",
              "      <td>Resort Hotel</td>\n",
              "      <td>0</td>\n",
              "      <td>7</td>\n",
              "      <td>2015</td>\n",
              "      <td>July</td>\n",
              "      <td>27</td>\n",
              "      <td>1</td>\n",
              "      <td>0</td>\n",
              "      <td>1</td>\n",
              "      <td>1</td>\n",
              "      <td>...</td>\n",
              "      <td>0</td>\n",
              "      <td>No Deposit</td>\n",
              "      <td>0.0</td>\n",
              "      <td>0</td>\n",
              "      <td>Transient</td>\n",
              "      <td>75.0</td>\n",
              "      <td>0</td>\n",
              "      <td>0</td>\n",
              "      <td>Check-Out</td>\n",
              "      <td>2015-07-02</td>\n",
              "    </tr>\n",
              "    <tr>\n",
              "      <th>3</th>\n",
              "      <td>Resort Hotel</td>\n",
              "      <td>0</td>\n",
              "      <td>13</td>\n",
              "      <td>2015</td>\n",
              "      <td>July</td>\n",
              "      <td>27</td>\n",
              "      <td>1</td>\n",
              "      <td>0</td>\n",
              "      <td>1</td>\n",
              "      <td>1</td>\n",
              "      <td>...</td>\n",
              "      <td>0</td>\n",
              "      <td>No Deposit</td>\n",
              "      <td>304.0</td>\n",
              "      <td>0</td>\n",
              "      <td>Transient</td>\n",
              "      <td>75.0</td>\n",
              "      <td>0</td>\n",
              "      <td>0</td>\n",
              "      <td>Check-Out</td>\n",
              "      <td>2015-07-02</td>\n",
              "    </tr>\n",
              "    <tr>\n",
              "      <th>4</th>\n",
              "      <td>Resort Hotel</td>\n",
              "      <td>0</td>\n",
              "      <td>14</td>\n",
              "      <td>2015</td>\n",
              "      <td>July</td>\n",
              "      <td>27</td>\n",
              "      <td>1</td>\n",
              "      <td>0</td>\n",
              "      <td>2</td>\n",
              "      <td>2</td>\n",
              "      <td>...</td>\n",
              "      <td>0</td>\n",
              "      <td>No Deposit</td>\n",
              "      <td>240.0</td>\n",
              "      <td>0</td>\n",
              "      <td>Transient</td>\n",
              "      <td>98.0</td>\n",
              "      <td>0</td>\n",
              "      <td>1</td>\n",
              "      <td>Check-Out</td>\n",
              "      <td>2015-07-03</td>\n",
              "    </tr>\n",
              "  </tbody>\n",
              "</table>\n",
              "<p>5 rows × 31 columns</p>\n",
              "</div>\n",
              "      <button class=\"colab-df-convert\" onclick=\"convertToInteractive('df-1ec17648-8355-4625-8f57-533b6d095aec')\"\n",
              "              title=\"Convert this dataframe to an interactive table.\"\n",
              "              style=\"display:none;\">\n",
              "        \n",
              "  <svg xmlns=\"http://www.w3.org/2000/svg\" height=\"24px\"viewBox=\"0 0 24 24\"\n",
              "       width=\"24px\">\n",
              "    <path d=\"M0 0h24v24H0V0z\" fill=\"none\"/>\n",
              "    <path d=\"M18.56 5.44l.94 2.06.94-2.06 2.06-.94-2.06-.94-.94-2.06-.94 2.06-2.06.94zm-11 1L8.5 8.5l.94-2.06 2.06-.94-2.06-.94L8.5 2.5l-.94 2.06-2.06.94zm10 10l.94 2.06.94-2.06 2.06-.94-2.06-.94-.94-2.06-.94 2.06-2.06.94z\"/><path d=\"M17.41 7.96l-1.37-1.37c-.4-.4-.92-.59-1.43-.59-.52 0-1.04.2-1.43.59L10.3 9.45l-7.72 7.72c-.78.78-.78 2.05 0 2.83L4 21.41c.39.39.9.59 1.41.59.51 0 1.02-.2 1.41-.59l7.78-7.78 2.81-2.81c.8-.78.8-2.07 0-2.86zM5.41 20L4 18.59l7.72-7.72 1.47 1.35L5.41 20z\"/>\n",
              "  </svg>\n",
              "      </button>\n",
              "      \n",
              "  <style>\n",
              "    .colab-df-container {\n",
              "      display:flex;\n",
              "      flex-wrap:wrap;\n",
              "      gap: 12px;\n",
              "    }\n",
              "\n",
              "    .colab-df-convert {\n",
              "      background-color: #E8F0FE;\n",
              "      border: none;\n",
              "      border-radius: 50%;\n",
              "      cursor: pointer;\n",
              "      display: none;\n",
              "      fill: #1967D2;\n",
              "      height: 32px;\n",
              "      padding: 0 0 0 0;\n",
              "      width: 32px;\n",
              "    }\n",
              "\n",
              "    .colab-df-convert:hover {\n",
              "      background-color: #E2EBFA;\n",
              "      box-shadow: 0px 1px 2px rgba(60, 64, 67, 0.3), 0px 1px 3px 1px rgba(60, 64, 67, 0.15);\n",
              "      fill: #174EA6;\n",
              "    }\n",
              "\n",
              "    [theme=dark] .colab-df-convert {\n",
              "      background-color: #3B4455;\n",
              "      fill: #D2E3FC;\n",
              "    }\n",
              "\n",
              "    [theme=dark] .colab-df-convert:hover {\n",
              "      background-color: #434B5C;\n",
              "      box-shadow: 0px 1px 3px 1px rgba(0, 0, 0, 0.15);\n",
              "      filter: drop-shadow(0px 1px 2px rgba(0, 0, 0, 0.3));\n",
              "      fill: #FFFFFF;\n",
              "    }\n",
              "  </style>\n",
              "\n",
              "      <script>\n",
              "        const buttonEl =\n",
              "          document.querySelector('#df-1ec17648-8355-4625-8f57-533b6d095aec button.colab-df-convert');\n",
              "        buttonEl.style.display =\n",
              "          google.colab.kernel.accessAllowed ? 'block' : 'none';\n",
              "\n",
              "        async function convertToInteractive(key) {\n",
              "          const element = document.querySelector('#df-1ec17648-8355-4625-8f57-533b6d095aec');\n",
              "          const dataTable =\n",
              "            await google.colab.kernel.invokeFunction('convertToInteractive',\n",
              "                                                     [key], {});\n",
              "          if (!dataTable) return;\n",
              "\n",
              "          const docLinkHtml = 'Like what you see? Visit the ' +\n",
              "            '<a target=\"_blank\" href=https://colab.research.google.com/notebooks/data_table.ipynb>data table notebook</a>'\n",
              "            + ' to learn more about interactive tables.';\n",
              "          element.innerHTML = '';\n",
              "          dataTable['output_type'] = 'display_data';\n",
              "          await google.colab.output.renderOutput(dataTable, element);\n",
              "          const docLink = document.createElement('div');\n",
              "          docLink.innerHTML = docLinkHtml;\n",
              "          element.appendChild(docLink);\n",
              "        }\n",
              "      </script>\n",
              "    </div>\n",
              "  </div>\n",
              "  "
            ]
          },
          "metadata": {},
          "execution_count": 234
        }
      ]
    },
    {
      "cell_type": "code",
      "source": [
        "# First we need to find out which features are numeric"
      ],
      "metadata": {
        "id": "yB4Kl3AxHO5p"
      },
      "execution_count": 100,
      "outputs": []
    },
    {
      "cell_type": "code",
      "source": [
        "numeric_Var_list = []\n",
        "for i in df1.columns:\n",
        "  if df1[i].dtypes == 'int64' or df1[i].dtypes == 'float64':\n",
        "    numeric_Var_list.append(i)\n",
        "print(numeric_Var_list) \n",
        "len(numeric_Var_list)"
      ],
      "metadata": {
        "colab": {
          "base_uri": "https://localhost:8080/"
        },
        "id": "nlIeFQoXHSoc",
        "outputId": "40bc3cc5-28b6-42fe-f676-4f0e981f2180"
      },
      "execution_count": 235,
      "outputs": [
        {
          "output_type": "stream",
          "name": "stdout",
          "text": [
            "['is_canceled', 'lead_time', 'arrival_date_year', 'arrival_date_week_number', 'arrival_date_day_of_month', 'stays_in_weekend_nights', 'stays_in_week_nights', 'adults', 'children', 'babies', 'is_repeated_guest', 'previous_cancellations', 'previous_bookings_not_canceled', 'booking_changes', 'agent', 'days_in_waiting_list', 'adr', 'required_car_parking_spaces', 'total_of_special_requests']\n"
          ]
        },
        {
          "output_type": "execute_result",
          "data": {
            "text/plain": [
              "19"
            ]
          },
          "metadata": {},
          "execution_count": 235
        }
      ]
    },
    {
      "cell_type": "markdown",
      "source": [
        "We need to remove 'is_canceled', 'is_repeated_guest' and 'agent'"
      ],
      "metadata": {
        "id": "6PJazHQ6IJwX"
      }
    },
    {
      "cell_type": "code",
      "source": [
        "numeric_Var_list.remove('is_canceled')\n",
        "numeric_Var_list.remove('is_repeated_guest')\n",
        "numeric_Var_list.remove('agent')"
      ],
      "metadata": {
        "id": "bci74lL-IWub"
      },
      "execution_count": 236,
      "outputs": []
    },
    {
      "cell_type": "code",
      "source": [
        "len(numeric_Var_list) # Now we have 16 variables as numeric features, and we need to detect each of its outliers"
      ],
      "metadata": {
        "colab": {
          "base_uri": "https://localhost:8080/"
        },
        "id": "hamrizjIIpPz",
        "outputId": "e6c66e9f-2368-45af-e3f4-c866c0bbf6d3"
      },
      "execution_count": 237,
      "outputs": [
        {
          "output_type": "execute_result",
          "data": {
            "text/plain": [
              "16"
            ]
          },
          "metadata": {},
          "execution_count": 237
        }
      ]
    },
    {
      "cell_type": "code",
      "source": [
        "numeric_Var_list"
      ],
      "metadata": {
        "colab": {
          "base_uri": "https://localhost:8080/"
        },
        "id": "225IuxO6I9Uk",
        "outputId": "2b46879b-1c4d-434f-8e3b-df726618b9f2"
      },
      "execution_count": 238,
      "outputs": [
        {
          "output_type": "execute_result",
          "data": {
            "text/plain": [
              "['lead_time',\n",
              " 'arrival_date_year',\n",
              " 'arrival_date_week_number',\n",
              " 'arrival_date_day_of_month',\n",
              " 'stays_in_weekend_nights',\n",
              " 'stays_in_week_nights',\n",
              " 'adults',\n",
              " 'children',\n",
              " 'babies',\n",
              " 'previous_cancellations',\n",
              " 'previous_bookings_not_canceled',\n",
              " 'booking_changes',\n",
              " 'days_in_waiting_list',\n",
              " 'adr',\n",
              " 'required_car_parking_spaces',\n",
              " 'total_of_special_requests']"
            ]
          },
          "metadata": {},
          "execution_count": 238
        }
      ]
    },
    {
      "cell_type": "code",
      "source": [
        " #This function calculate the number of outliers of numeric variables with 2 input dataset and column name\n",
        "def countOutliers(DF, colName): \n",
        "  Q1 = np.percentile(DF[colName], 25,\n",
        "                    interpolation = 'midpoint')\n",
        "  \n",
        "  Q3 = np.percentile(DF[colName], 75,\n",
        "                      interpolation = 'midpoint')\n",
        "  IQR = Q3 - Q1\n",
        "\n",
        "  # Upper Bound\n",
        "  upper=Q3+1.5*IQR\n",
        "  upper_array= np.array(df1[colName]>upper)\n",
        "    \n",
        "  #Below Lower bound\n",
        "  lower=Q1-1.5*IQR\n",
        "  lower_array= np.array(df1[colName] < lower)\n",
        "\n",
        "  # Number of outliers\n",
        "  numOutliers = len(DF[colName][upper_array])+len(df1[colName][lower_array])\n",
        "  return numOutliers\n"
      ],
      "metadata": {
        "id": "uaII58XhPQTY"
      },
      "execution_count": 239,
      "outputs": []
    },
    {
      "cell_type": "code",
      "source": [
        "numOutliersList = []\n",
        "for i in numeric_Var_list:\n",
        "  numOutliersList.append(countOutliers(df1,i))\n",
        "\n",
        "outliers_df = pd.DataFrame({'Numeric Features': numeric_Var_list, 'Number of Outliers': numOutliersList})\n",
        "outliers_df"
      ],
      "metadata": {
        "colab": {
          "base_uri": "https://localhost:8080/",
          "height": 647
        },
        "id": "mMS6SJNXQyJJ",
        "outputId": "ace59d73-b064-4300-9989-0e485c7e3e66"
      },
      "execution_count": 240,
      "outputs": [
        {
          "output_type": "stream",
          "name": "stderr",
          "text": [
            "<ipython-input-239-7c302d84a892>:3: DeprecationWarning: the `interpolation=` argument to percentile was renamed to `method=`, which has additional options.\n",
            "Users of the modes 'nearest', 'lower', 'higher', or 'midpoint' are encouraged to review the method they. (Deprecated NumPy 1.22)\n",
            "  Q1 = np.percentile(DF[colName], 25,\n",
            "<ipython-input-239-7c302d84a892>:6: DeprecationWarning: the `interpolation=` argument to percentile was renamed to `method=`, which has additional options.\n",
            "Users of the modes 'nearest', 'lower', 'higher', or 'midpoint' are encouraged to review the method they. (Deprecated NumPy 1.22)\n",
            "  Q3 = np.percentile(DF[colName], 75,\n"
          ]
        },
        {
          "output_type": "execute_result",
          "data": {
            "text/plain": [
              "                  Numeric Features  Number of Outliers\n",
              "0                        lead_time                3003\n",
              "1                arrival_date_year                   0\n",
              "2         arrival_date_week_number                   0\n",
              "3        arrival_date_day_of_month                   0\n",
              "4          stays_in_weekend_nights                 258\n",
              "5             stays_in_week_nights                3327\n",
              "6                           adults               29307\n",
              "7                         children                8367\n",
              "8                           babies                 914\n",
              "9           previous_cancellations                6477\n",
              "10  previous_bookings_not_canceled                3612\n",
              "11                 booking_changes               17921\n",
              "12            days_in_waiting_list                3693\n",
              "13                             adr                3864\n",
              "14     required_car_parking_spaces                7407\n",
              "15       total_of_special_requests                2858"
            ],
            "text/html": [
              "\n",
              "  <div id=\"df-e5b64e9d-a6a3-4670-9928-dc74919402cf\">\n",
              "    <div class=\"colab-df-container\">\n",
              "      <div>\n",
              "<style scoped>\n",
              "    .dataframe tbody tr th:only-of-type {\n",
              "        vertical-align: middle;\n",
              "    }\n",
              "\n",
              "    .dataframe tbody tr th {\n",
              "        vertical-align: top;\n",
              "    }\n",
              "\n",
              "    .dataframe thead th {\n",
              "        text-align: right;\n",
              "    }\n",
              "</style>\n",
              "<table border=\"1\" class=\"dataframe\">\n",
              "  <thead>\n",
              "    <tr style=\"text-align: right;\">\n",
              "      <th></th>\n",
              "      <th>Numeric Features</th>\n",
              "      <th>Number of Outliers</th>\n",
              "    </tr>\n",
              "  </thead>\n",
              "  <tbody>\n",
              "    <tr>\n",
              "      <th>0</th>\n",
              "      <td>lead_time</td>\n",
              "      <td>3003</td>\n",
              "    </tr>\n",
              "    <tr>\n",
              "      <th>1</th>\n",
              "      <td>arrival_date_year</td>\n",
              "      <td>0</td>\n",
              "    </tr>\n",
              "    <tr>\n",
              "      <th>2</th>\n",
              "      <td>arrival_date_week_number</td>\n",
              "      <td>0</td>\n",
              "    </tr>\n",
              "    <tr>\n",
              "      <th>3</th>\n",
              "      <td>arrival_date_day_of_month</td>\n",
              "      <td>0</td>\n",
              "    </tr>\n",
              "    <tr>\n",
              "      <th>4</th>\n",
              "      <td>stays_in_weekend_nights</td>\n",
              "      <td>258</td>\n",
              "    </tr>\n",
              "    <tr>\n",
              "      <th>5</th>\n",
              "      <td>stays_in_week_nights</td>\n",
              "      <td>3327</td>\n",
              "    </tr>\n",
              "    <tr>\n",
              "      <th>6</th>\n",
              "      <td>adults</td>\n",
              "      <td>29307</td>\n",
              "    </tr>\n",
              "    <tr>\n",
              "      <th>7</th>\n",
              "      <td>children</td>\n",
              "      <td>8367</td>\n",
              "    </tr>\n",
              "    <tr>\n",
              "      <th>8</th>\n",
              "      <td>babies</td>\n",
              "      <td>914</td>\n",
              "    </tr>\n",
              "    <tr>\n",
              "      <th>9</th>\n",
              "      <td>previous_cancellations</td>\n",
              "      <td>6477</td>\n",
              "    </tr>\n",
              "    <tr>\n",
              "      <th>10</th>\n",
              "      <td>previous_bookings_not_canceled</td>\n",
              "      <td>3612</td>\n",
              "    </tr>\n",
              "    <tr>\n",
              "      <th>11</th>\n",
              "      <td>booking_changes</td>\n",
              "      <td>17921</td>\n",
              "    </tr>\n",
              "    <tr>\n",
              "      <th>12</th>\n",
              "      <td>days_in_waiting_list</td>\n",
              "      <td>3693</td>\n",
              "    </tr>\n",
              "    <tr>\n",
              "      <th>13</th>\n",
              "      <td>adr</td>\n",
              "      <td>3864</td>\n",
              "    </tr>\n",
              "    <tr>\n",
              "      <th>14</th>\n",
              "      <td>required_car_parking_spaces</td>\n",
              "      <td>7407</td>\n",
              "    </tr>\n",
              "    <tr>\n",
              "      <th>15</th>\n",
              "      <td>total_of_special_requests</td>\n",
              "      <td>2858</td>\n",
              "    </tr>\n",
              "  </tbody>\n",
              "</table>\n",
              "</div>\n",
              "      <button class=\"colab-df-convert\" onclick=\"convertToInteractive('df-e5b64e9d-a6a3-4670-9928-dc74919402cf')\"\n",
              "              title=\"Convert this dataframe to an interactive table.\"\n",
              "              style=\"display:none;\">\n",
              "        \n",
              "  <svg xmlns=\"http://www.w3.org/2000/svg\" height=\"24px\"viewBox=\"0 0 24 24\"\n",
              "       width=\"24px\">\n",
              "    <path d=\"M0 0h24v24H0V0z\" fill=\"none\"/>\n",
              "    <path d=\"M18.56 5.44l.94 2.06.94-2.06 2.06-.94-2.06-.94-.94-2.06-.94 2.06-2.06.94zm-11 1L8.5 8.5l.94-2.06 2.06-.94-2.06-.94L8.5 2.5l-.94 2.06-2.06.94zm10 10l.94 2.06.94-2.06 2.06-.94-2.06-.94-.94-2.06-.94 2.06-2.06.94z\"/><path d=\"M17.41 7.96l-1.37-1.37c-.4-.4-.92-.59-1.43-.59-.52 0-1.04.2-1.43.59L10.3 9.45l-7.72 7.72c-.78.78-.78 2.05 0 2.83L4 21.41c.39.39.9.59 1.41.59.51 0 1.02-.2 1.41-.59l7.78-7.78 2.81-2.81c.8-.78.8-2.07 0-2.86zM5.41 20L4 18.59l7.72-7.72 1.47 1.35L5.41 20z\"/>\n",
              "  </svg>\n",
              "      </button>\n",
              "      \n",
              "  <style>\n",
              "    .colab-df-container {\n",
              "      display:flex;\n",
              "      flex-wrap:wrap;\n",
              "      gap: 12px;\n",
              "    }\n",
              "\n",
              "    .colab-df-convert {\n",
              "      background-color: #E8F0FE;\n",
              "      border: none;\n",
              "      border-radius: 50%;\n",
              "      cursor: pointer;\n",
              "      display: none;\n",
              "      fill: #1967D2;\n",
              "      height: 32px;\n",
              "      padding: 0 0 0 0;\n",
              "      width: 32px;\n",
              "    }\n",
              "\n",
              "    .colab-df-convert:hover {\n",
              "      background-color: #E2EBFA;\n",
              "      box-shadow: 0px 1px 2px rgba(60, 64, 67, 0.3), 0px 1px 3px 1px rgba(60, 64, 67, 0.15);\n",
              "      fill: #174EA6;\n",
              "    }\n",
              "\n",
              "    [theme=dark] .colab-df-convert {\n",
              "      background-color: #3B4455;\n",
              "      fill: #D2E3FC;\n",
              "    }\n",
              "\n",
              "    [theme=dark] .colab-df-convert:hover {\n",
              "      background-color: #434B5C;\n",
              "      box-shadow: 0px 1px 3px 1px rgba(0, 0, 0, 0.15);\n",
              "      filter: drop-shadow(0px 1px 2px rgba(0, 0, 0, 0.3));\n",
              "      fill: #FFFFFF;\n",
              "    }\n",
              "  </style>\n",
              "\n",
              "      <script>\n",
              "        const buttonEl =\n",
              "          document.querySelector('#df-e5b64e9d-a6a3-4670-9928-dc74919402cf button.colab-df-convert');\n",
              "        buttonEl.style.display =\n",
              "          google.colab.kernel.accessAllowed ? 'block' : 'none';\n",
              "\n",
              "        async function convertToInteractive(key) {\n",
              "          const element = document.querySelector('#df-e5b64e9d-a6a3-4670-9928-dc74919402cf');\n",
              "          const dataTable =\n",
              "            await google.colab.kernel.invokeFunction('convertToInteractive',\n",
              "                                                     [key], {});\n",
              "          if (!dataTable) return;\n",
              "\n",
              "          const docLinkHtml = 'Like what you see? Visit the ' +\n",
              "            '<a target=\"_blank\" href=https://colab.research.google.com/notebooks/data_table.ipynb>data table notebook</a>'\n",
              "            + ' to learn more about interactive tables.';\n",
              "          element.innerHTML = '';\n",
              "          dataTable['output_type'] = 'display_data';\n",
              "          await google.colab.output.renderOutput(dataTable, element);\n",
              "          const docLink = document.createElement('div');\n",
              "          docLink.innerHTML = docLinkHtml;\n",
              "          element.appendChild(docLink);\n",
              "        }\n",
              "      </script>\n",
              "    </div>\n",
              "  </div>\n",
              "  "
            ]
          },
          "metadata": {},
          "execution_count": 240
        }
      ]
    },
    {
      "cell_type": "code",
      "source": [
        " #This function return the index of outliers for numeric variables with 2 input dataset and column name\n",
        "def findOutliers(DF, colName): \n",
        "  Q1 = np.percentile(DF[colName], 25,\n",
        "                    interpolation = 'midpoint')\n",
        "  \n",
        "  Q3 = np.percentile(DF[colName], 75,\n",
        "                      interpolation = 'midpoint')\n",
        "  IQR = Q3 - Q1\n",
        "\n",
        "  # Upper Bound\n",
        "  upper=Q3+1.5*IQR\n",
        "  upper_array= np.array(df1[colName]>upper)\n",
        "    \n",
        "  #Below Lower bound\n",
        "  lower=Q1-1.5*IQR\n",
        "  lower_array= np.array(df1[colName] < lower)\n",
        "\n",
        "  # find the index of outliers\n",
        "  index_list = []\n",
        "  for i in range(len(upper_array)):\n",
        "    if upper_array[i] == True:\n",
        "      index_list.append(i)\n",
        "  \n",
        "\n",
        "  for i in range(len(lower_array)):\n",
        "    if lower_array[i] == True:\n",
        "      index_list.append(i)\n",
        "    \n",
        "\n",
        "  return index_list"
      ],
      "metadata": {
        "id": "0Dxdcq4PS0jh"
      },
      "execution_count": 241,
      "outputs": []
    },
    {
      "cell_type": "markdown",
      "metadata": {
        "id": "kjcDKGFj9HgC"
      },
      "source": [
        "\n",
        "# **Feature Engineering**"
      ]
    },
    {
      "cell_type": "markdown",
      "metadata": {
        "id": "WTYemIHFeZ1S"
      },
      "source": [
        "Among the 12 categorical variables, we use label encoding to 'reservation_status_date', and one-hot encoding to the rest. \n",
        "Since 'country' has a really high cardinality - 178 values, we decide to drop this feature."
      ]
    },
    {
      "cell_type": "markdown",
      "metadata": {
        "id": "3owQguajjX46"
      },
      "source": [
        "To preserve the dataset, we create a copy for our original dataset 'df' as 'df1' to do feature engineering"
      ]
    },
    {
      "cell_type": "code",
      "execution_count": 242,
      "metadata": {
        "colab": {
          "base_uri": "https://localhost:8080/"
        },
        "id": "XCclpgr2gZXo",
        "outputId": "cbcbec48-8f82-4fd6-d88d-b1b8f77c3a4d"
      },
      "outputs": [
        {
          "output_type": "execute_result",
          "data": {
            "text/plain": [
              "31"
            ]
          },
          "metadata": {},
          "execution_count": 242
        }
      ],
      "source": [
        "len(df1.columns)"
      ]
    },
    {
      "cell_type": "code",
      "execution_count": 243,
      "metadata": {
        "id": "0e4XoTTMf_8M"
      },
      "outputs": [],
      "source": [
        "df1=df1.drop(['country'],axis=1)"
      ]
    },
    {
      "cell_type": "code",
      "execution_count": 244,
      "metadata": {
        "id": "PlGVDLRntbzE"
      },
      "outputs": [],
      "source": [
        "Categorical_Var_list.remove('country')"
      ]
    },
    {
      "cell_type": "code",
      "execution_count": 245,
      "metadata": {
        "colab": {
          "base_uri": "https://localhost:8080/"
        },
        "id": "bXazQyEcgjP1",
        "outputId": "03f224f0-be03-421e-c9f2-8d19b506d580"
      },
      "outputs": [
        {
          "output_type": "execute_result",
          "data": {
            "text/plain": [
              "30"
            ]
          },
          "metadata": {},
          "execution_count": 245
        }
      ],
      "source": [
        "len(df1.columns)"
      ]
    },
    {
      "cell_type": "markdown",
      "metadata": {
        "id": "xGKSQqILgysR"
      },
      "source": [
        "Now we have 29 features and 1 target variable"
      ]
    },
    {
      "cell_type": "code",
      "execution_count": 246,
      "metadata": {
        "id": "AVed_BLfgoi9"
      },
      "outputs": [],
      "source": [
        "# Apply label encoding to ''reservation_status_date''"
      ]
    },
    {
      "cell_type": "code",
      "execution_count": 247,
      "metadata": {
        "id": "W2xSqsX2gush"
      },
      "outputs": [],
      "source": [
        "df1['reservation_status_date']=LabelEncoder().fit_transform(df1['reservation_status_date'])"
      ]
    },
    {
      "cell_type": "code",
      "execution_count": 248,
      "metadata": {
        "colab": {
          "base_uri": "https://localhost:8080/"
        },
        "id": "_5AI0piniCYU",
        "outputId": "5abedec6-e5c1-4045-cdaf-3bfba2c48db1"
      },
      "outputs": [
        {
          "output_type": "execute_result",
          "data": {
            "text/plain": [
              "0         121\n",
              "1         121\n",
              "2         122\n",
              "3         122\n",
              "4         123\n",
              "         ... \n",
              "119385    919\n",
              "119386    920\n",
              "119387    920\n",
              "119388    920\n",
              "119389    920\n",
              "Name: reservation_status_date, Length: 118987, dtype: int64"
            ]
          },
          "metadata": {},
          "execution_count": 248
        }
      ],
      "source": [
        "df1['reservation_status_date']"
      ]
    },
    {
      "cell_type": "code",
      "execution_count": 249,
      "metadata": {
        "id": "N4V0ffNUk2xE"
      },
      "outputs": [],
      "source": [
        "# Apply one-hot encoding to the other 10 categorical variables\n",
        "Categorical_Var_list.remove('reservation_status_date')"
      ]
    },
    {
      "cell_type": "code",
      "execution_count": 250,
      "metadata": {
        "id": "8GlgdMNgsDtk"
      },
      "outputs": [],
      "source": [
        "df1 = pd.get_dummies(df1, columns= Categorical_Var_list)"
      ]
    },
    {
      "cell_type": "code",
      "execution_count": 251,
      "metadata": {
        "colab": {
          "base_uri": "https://localhost:8080/"
        },
        "id": "331ui5BftmIO",
        "outputId": "8368e8bb-4072-4c47-88e6-eaeafea9674a"
      },
      "outputs": [
        {
          "output_type": "execute_result",
          "data": {
            "text/plain": [
              "Index(['is_canceled', 'lead_time', 'arrival_date_year',\n",
              "       'arrival_date_week_number', 'arrival_date_day_of_month',\n",
              "       'stays_in_weekend_nights', 'stays_in_week_nights', 'adults', 'children',\n",
              "       'babies', 'is_repeated_guest', 'previous_cancellations',\n",
              "       'previous_bookings_not_canceled', 'booking_changes', 'agent',\n",
              "       'days_in_waiting_list', 'adr', 'required_car_parking_spaces',\n",
              "       'total_of_special_requests', 'reservation_status_date',\n",
              "       'hotel_City Hotel', 'hotel_Resort Hotel', 'arrival_date_month_April',\n",
              "       'arrival_date_month_August', 'arrival_date_month_December',\n",
              "       'arrival_date_month_February', 'arrival_date_month_January',\n",
              "       'arrival_date_month_July', 'arrival_date_month_June',\n",
              "       'arrival_date_month_March', 'arrival_date_month_May',\n",
              "       'arrival_date_month_November', 'arrival_date_month_October',\n",
              "       'arrival_date_month_September', 'meal_BB', 'meal_FB', 'meal_HB',\n",
              "       'meal_SC', 'market_segment_Aviation', 'market_segment_Complementary',\n",
              "       'market_segment_Corporate', 'market_segment_Direct',\n",
              "       'market_segment_Groups', 'market_segment_Offline TA/TO',\n",
              "       'market_segment_Online TA', 'market_segment_Undefined',\n",
              "       'distribution_channel_Corporate', 'distribution_channel_Direct',\n",
              "       'distribution_channel_GDS', 'distribution_channel_TA/TO',\n",
              "       'distribution_channel_Undefined', 'reserved_room_type_A',\n",
              "       'reserved_room_type_B', 'reserved_room_type_C', 'reserved_room_type_D',\n",
              "       'reserved_room_type_E', 'reserved_room_type_F', 'reserved_room_type_G',\n",
              "       'reserved_room_type_H', 'reserved_room_type_L', 'assigned_room_type_A',\n",
              "       'assigned_room_type_B', 'assigned_room_type_C', 'assigned_room_type_D',\n",
              "       'assigned_room_type_E', 'assigned_room_type_F', 'assigned_room_type_G',\n",
              "       'assigned_room_type_H', 'assigned_room_type_I', 'assigned_room_type_K',\n",
              "       'assigned_room_type_L', 'deposit_type_No Deposit',\n",
              "       'deposit_type_Non Refund', 'deposit_type_Refundable',\n",
              "       'customer_type_Contract', 'customer_type_Group',\n",
              "       'customer_type_Transient', 'customer_type_Transient-Party',\n",
              "       'reservation_status_Canceled', 'reservation_status_Check-Out',\n",
              "       'reservation_status_No-Show'],\n",
              "      dtype='object')"
            ]
          },
          "metadata": {},
          "execution_count": 251
        }
      ],
      "source": [
        "df1.columns"
      ]
    },
    {
      "cell_type": "markdown",
      "metadata": {
        "id": "Nj4mURPEtvHN"
      },
      "source": [
        "**After we use one-hot encoding with get_dummies() function, we end up with 81 variables**"
      ]
    },
    {
      "cell_type": "markdown",
      "metadata": {
        "id": "f5r8P2cv3w3N"
      },
      "source": [
        "### **Apply Standard Scaler to numeric variables in the data set**"
      ]
    },
    {
      "cell_type": "code",
      "execution_count": 252,
      "metadata": {
        "id": "NwlSvQD9ALAR"
      },
      "outputs": [],
      "source": [
        "from sklearn.preprocessing import StandardScaler\n",
        "df1[numeric_Var_list] = StandardScaler().fit_transform(df1[numeric_Var_list])"
      ]
    },
    {
      "cell_type": "code",
      "source": [
        "pd.set_option('display.max_rows', 100)"
      ],
      "metadata": {
        "id": "kWVBmqiik2Dq"
      },
      "execution_count": 253,
      "outputs": []
    },
    {
      "cell_type": "code",
      "source": [
        "\n",
        "correlation = df1.corr()['is_canceled'].abs().sort_values(ascending = False)\n",
        "correlation"
      ],
      "metadata": {
        "colab": {
          "base_uri": "https://localhost:8080/"
        },
        "id": "4_dE7l5CY2co",
        "outputId": "75357656-8c21-476c-9671-8363f301c559"
      },
      "execution_count": 254,
      "outputs": [
        {
          "output_type": "execute_result",
          "data": {
            "text/plain": [
              "is_canceled                       1.000000\n",
              "reservation_status_Check-Out      1.000000\n",
              "reservation_status_Canceled       0.978442\n",
              "deposit_type_Non Refund           0.482033\n",
              "deposit_type_No Deposit           0.478480\n",
              "lead_time                         0.292983\n",
              "total_of_special_requests         0.235262\n",
              "market_segment_Groups             0.222251\n",
              "assigned_room_type_A              0.197752\n",
              "required_car_parking_spaces       0.195863\n",
              "distribution_channel_TA/TO        0.176111\n",
              "reservation_status_date           0.162236\n",
              "market_segment_Direct             0.154465\n",
              "distribution_channel_Direct       0.151660\n",
              "booking_changes                   0.144863\n",
              "hotel_Resort Hotel                0.137260\n",
              "hotel_City Hotel                  0.137260\n",
              "customer_type_Transient           0.133227\n",
              "reservation_status_No-Show        0.131661\n",
              "assigned_room_type_D              0.128429\n",
              "customer_type_Transient-Party     0.124283\n",
              "previous_cancellations            0.110222\n",
              "is_repeated_guest                 0.083797\n",
              "market_segment_Corporate          0.081720\n",
              "distribution_channel_Corporate    0.075659\n",
              "reserved_room_type_A              0.069486\n",
              "assigned_room_type_E              0.065329\n",
              "adults                            0.058891\n",
              "previous_bookings_not_canceled    0.057413\n",
              "days_in_waiting_list              0.054357\n",
              "assigned_room_type_C              0.053885\n",
              "reserved_room_type_D              0.047763\n",
              "agent                             0.046814\n",
              "adr                               0.046460\n",
              "assigned_room_type_F              0.046176\n",
              "assigned_room_type_B              0.041042\n",
              "assigned_room_type_I              0.040640\n",
              "market_segment_Complementary      0.040369\n",
              "reserved_room_type_E              0.038889\n",
              "meal_FB                           0.038829\n",
              "customer_type_Group               0.038818\n",
              "babies                            0.032620\n",
              "arrival_date_month_January        0.030977\n",
              "arrival_date_month_March          0.030337\n",
              "arrival_date_month_November       0.029542\n",
              "arrival_date_month_June           0.029142\n",
              "market_segment_Offline TA/TO      0.028690\n",
              "assigned_room_type_K              0.025622\n",
              "stays_in_week_nights              0.025348\n",
              "arrival_date_month_April          0.024606\n",
              "customer_type_Contract            0.023676\n",
              "reserved_room_type_F              0.021719\n",
              "arrival_date_month_February       0.020224\n",
              "meal_HB                           0.020021\n",
              "assigned_room_type_G              0.019915\n",
              "arrival_date_month_May            0.017922\n",
              "arrival_date_year                 0.016450\n",
              "distribution_channel_GDS          0.014941\n",
              "market_segment_Aviation           0.013767\n",
              "arrival_date_month_September      0.013450\n",
              "meal_BB                           0.012682\n",
              "deposit_type_Refundable           0.011355\n",
              "arrival_date_month_December       0.010421\n",
              "reserved_room_type_B              0.010258\n",
              "arrival_date_week_number          0.008323\n",
              "reserved_room_type_C              0.007341\n",
              "arrival_date_month_October        0.006999\n",
              "meal_SC                           0.006506\n",
              "market_segment_Online TA          0.006420\n",
              "arrival_date_day_of_month         0.005878\n",
              "distribution_channel_Undefined    0.005761\n",
              "reserved_room_type_H              0.005443\n",
              "arrival_date_month_August         0.005366\n",
              "market_segment_Undefined          0.005341\n",
              "children                          0.004837\n",
              "assigned_room_type_L              0.003777\n",
              "assigned_room_type_H              0.002928\n",
              "arrival_date_month_July           0.002906\n",
              "reserved_room_type_G              0.001754\n",
              "stays_in_weekend_nights           0.001388\n",
              "reserved_room_type_L              0.000550\n",
              "Name: is_canceled, dtype: float64"
            ]
          },
          "metadata": {},
          "execution_count": 254
        }
      ]
    },
    {
      "cell_type": "code",
      "source": [
        "df['reservation_status'].unique()"
      ],
      "metadata": {
        "colab": {
          "base_uri": "https://localhost:8080/"
        },
        "id": "f9Ohla7XlOis",
        "outputId": "624723eb-c6d9-45aa-b846-1dc577c0b572"
      },
      "execution_count": 255,
      "outputs": [
        {
          "output_type": "execute_result",
          "data": {
            "text/plain": [
              "array(['Check-Out', 'Canceled', 'No-Show'], dtype=object)"
            ]
          },
          "metadata": {},
          "execution_count": 255
        }
      ]
    },
    {
      "cell_type": "code",
      "source": [
        "# remove the column 'reservation_status_Check-Out' since it has a correlation of 1 which implies a colinearity\n",
        "# same for 'reservation_status_Canceled'\n",
        "df1.drop(['reservation_status_Check-Out'], axis=1, inplace = True)"
      ],
      "metadata": {
        "id": "9NpWEpyvlbSu"
      },
      "execution_count": 263,
      "outputs": []
    },
    {
      "cell_type": "code",
      "source": [
        "df1.drop(['reservation_status_Canceled'], axis=1, inplace = True)"
      ],
      "metadata": {
        "id": "JOH5P7ZPo9xi"
      },
      "execution_count": 265,
      "outputs": []
    },
    {
      "cell_type": "code",
      "source": [
        "correlation = df1.corr()['is_canceled'].abs().sort_values(ascending = False)\n",
        "correlation\n"
      ],
      "metadata": {
        "colab": {
          "base_uri": "https://localhost:8080/"
        },
        "id": "cxEaJ5Z3mCAC",
        "outputId": "3a867e16-15a3-49f8-c4a4-cf5363414582"
      },
      "execution_count": 266,
      "outputs": [
        {
          "output_type": "execute_result",
          "data": {
            "text/plain": [
              "is_canceled                       1.000000\n",
              "deposit_type_Non Refund           0.482033\n",
              "deposit_type_No Deposit           0.478480\n",
              "lead_time                         0.292983\n",
              "total_of_special_requests         0.235262\n",
              "market_segment_Groups             0.222251\n",
              "assigned_room_type_A              0.197752\n",
              "required_car_parking_spaces       0.195863\n",
              "distribution_channel_TA/TO        0.176111\n",
              "reservation_status_date           0.162236\n",
              "market_segment_Direct             0.154465\n",
              "distribution_channel_Direct       0.151660\n",
              "booking_changes                   0.144863\n",
              "hotel_Resort Hotel                0.137260\n",
              "hotel_City Hotel                  0.137260\n",
              "customer_type_Transient           0.133227\n",
              "reservation_status_No-Show        0.131661\n",
              "assigned_room_type_D              0.128429\n",
              "customer_type_Transient-Party     0.124283\n",
              "previous_cancellations            0.110222\n",
              "is_repeated_guest                 0.083797\n",
              "market_segment_Corporate          0.081720\n",
              "distribution_channel_Corporate    0.075659\n",
              "reserved_room_type_A              0.069486\n",
              "assigned_room_type_E              0.065329\n",
              "adults                            0.058891\n",
              "previous_bookings_not_canceled    0.057413\n",
              "days_in_waiting_list              0.054357\n",
              "assigned_room_type_C              0.053885\n",
              "reserved_room_type_D              0.047763\n",
              "agent                             0.046814\n",
              "adr                               0.046460\n",
              "assigned_room_type_F              0.046176\n",
              "assigned_room_type_B              0.041042\n",
              "assigned_room_type_I              0.040640\n",
              "market_segment_Complementary      0.040369\n",
              "reserved_room_type_E              0.038889\n",
              "meal_FB                           0.038829\n",
              "customer_type_Group               0.038818\n",
              "babies                            0.032620\n",
              "arrival_date_month_January        0.030977\n",
              "arrival_date_month_March          0.030337\n",
              "arrival_date_month_November       0.029542\n",
              "arrival_date_month_June           0.029142\n",
              "market_segment_Offline TA/TO      0.028690\n",
              "assigned_room_type_K              0.025622\n",
              "stays_in_week_nights              0.025348\n",
              "arrival_date_month_April          0.024606\n",
              "customer_type_Contract            0.023676\n",
              "reserved_room_type_F              0.021719\n",
              "arrival_date_month_February       0.020224\n",
              "meal_HB                           0.020021\n",
              "assigned_room_type_G              0.019915\n",
              "arrival_date_month_May            0.017922\n",
              "arrival_date_year                 0.016450\n",
              "distribution_channel_GDS          0.014941\n",
              "market_segment_Aviation           0.013767\n",
              "arrival_date_month_September      0.013450\n",
              "meal_BB                           0.012682\n",
              "deposit_type_Refundable           0.011355\n",
              "arrival_date_month_December       0.010421\n",
              "reserved_room_type_B              0.010258\n",
              "arrival_date_week_number          0.008323\n",
              "reserved_room_type_C              0.007341\n",
              "arrival_date_month_October        0.006999\n",
              "meal_SC                           0.006506\n",
              "market_segment_Online TA          0.006420\n",
              "arrival_date_day_of_month         0.005878\n",
              "distribution_channel_Undefined    0.005761\n",
              "reserved_room_type_H              0.005443\n",
              "arrival_date_month_August         0.005366\n",
              "market_segment_Undefined          0.005341\n",
              "children                          0.004837\n",
              "assigned_room_type_L              0.003777\n",
              "assigned_room_type_H              0.002928\n",
              "arrival_date_month_July           0.002906\n",
              "reserved_room_type_G              0.001754\n",
              "stays_in_weekend_nights           0.001388\n",
              "reserved_room_type_L              0.000550\n",
              "Name: is_canceled, dtype: float64"
            ]
          },
          "metadata": {},
          "execution_count": 266
        }
      ]
    },
    {
      "cell_type": "markdown",
      "source": [
        "Now we see the attribute 'reservation_status_Check-Out' and 'reservation_status_Canceled' has been removed"
      ],
      "metadata": {
        "id": "yBqVnxGunP5i"
      }
    },
    {
      "cell_type": "markdown",
      "source": [
        "We will use Variance Inflation Factor (VIF) later to further investigate colinearity and improve our method of incorporating features into our model. "
      ],
      "metadata": {
        "id": "nruB878mpOHW"
      }
    },
    {
      "cell_type": "markdown",
      "source": [
        "# **Model Building**"
      ],
      "metadata": {
        "id": "TLmc0mzisUjl"
      }
    },
    {
      "cell_type": "markdown",
      "source": [
        "For now we select the following 19 features (correlation > 0.1) into our model:\n"
      ],
      "metadata": {
        "id": "J-3Pj7nWqS2r"
      }
    },
    {
      "cell_type": "code",
      "source": [
        "feature_name_list = [\"deposit_type_Non Refund\",    \"deposit_type_No Deposit\",    \"lead_time\",    \"total_of_special_requests\",   \n",
        "                     \"market_segment_Groups\",    \"assigned_room_type_A\",    \"required_car_parking_spaces\",    \"distribution_channel_TA/TO\",  \n",
        "                     \"reservation_status_date\",    \"market_segment_Direct\",    \"distribution_channel_Direct\",    \"booking_changes\",    \"hotel_Resort Hotel\",  \n",
        "                     \"hotel_City Hotel\",    \"customer_type_Transient\",    \"reservation_status_No-Show\",    \"assigned_room_type_D\",  \n",
        "                     \"customer_type_Transient-Party\",    \"previous_cancellations\"]\n"
      ],
      "metadata": {
        "id": "Cy4wYuL8nXMG"
      },
      "execution_count": 267,
      "outputs": []
    },
    {
      "cell_type": "code",
      "source": [
        "X = df1[feature_name_list]\n",
        "y = df1['is_canceled']"
      ],
      "metadata": {
        "id": "5Rx1kMAyrZnE"
      },
      "execution_count": 271,
      "outputs": []
    },
    {
      "cell_type": "code",
      "source": [
        "from sklearn.model_selection import train_test_split\n",
        "\n",
        "X_train, X_test, y_train, y_test = train_test_split(X, y, test_size=0.3, random_state=42)\n"
      ],
      "metadata": {
        "id": "N-xcjxldrjKw"
      },
      "execution_count": 273,
      "outputs": []
    },
    {
      "cell_type": "markdown",
      "source": [
        "### **Logistic Regression**"
      ],
      "metadata": {
        "id": "ECDTANQXs3uz"
      }
    },
    {
      "cell_type": "code",
      "source": [
        "lr = LogisticRegression()\n",
        "lr.fit(X_train, y_train)\n",
        "\n",
        "y_pred_lr = lr.predict(X_test)\n",
        "\n",
        "acc_lr = accuracy_score(y_test, y_pred_lr)\n",
        "conf_lr = confusion_matrix(y_test, y_pred_lr)\n",
        "classReport_lr = classification_report(y_test, y_pred_lr)\n",
        "\n",
        "print(f\"Accuracy Score of Logistic Regression is : {acc_lr}\")\n",
        "print(f\"Confusion Matrix : \\n{conf_lr}\")\n",
        "print(f\"Classification Report : \\n{classReport_lr}\")"
      ],
      "metadata": {
        "colab": {
          "base_uri": "https://localhost:8080/"
        },
        "id": "m_4DRJqpspin",
        "outputId": "8b673452-aef8-4a5a-8aca-d4cc9f0aa347"
      },
      "execution_count": 274,
      "outputs": [
        {
          "output_type": "stream",
          "name": "stdout",
          "text": [
            "Accuracy Score of Logistic Regression is : 0.7815222567722778\n",
            "Confusion Matrix : \n",
            "[[21739   685]\n",
            " [ 7114  6159]]\n",
            "Classification Report : \n",
            "              precision    recall  f1-score   support\n",
            "\n",
            "           0       0.75      0.97      0.85     22424\n",
            "           1       0.90      0.46      0.61     13273\n",
            "\n",
            "    accuracy                           0.78     35697\n",
            "   macro avg       0.83      0.72      0.73     35697\n",
            "weighted avg       0.81      0.78      0.76     35697\n",
            "\n"
          ]
        },
        {
          "output_type": "stream",
          "name": "stderr",
          "text": [
            "/usr/local/lib/python3.9/dist-packages/sklearn/linear_model/_logistic.py:458: ConvergenceWarning: lbfgs failed to converge (status=1):\n",
            "STOP: TOTAL NO. of ITERATIONS REACHED LIMIT.\n",
            "\n",
            "Increase the number of iterations (max_iter) or scale the data as shown in:\n",
            "    https://scikit-learn.org/stable/modules/preprocessing.html\n",
            "Please also refer to the documentation for alternative solver options:\n",
            "    https://scikit-learn.org/stable/modules/linear_model.html#logistic-regression\n",
            "  n_iter_i = _check_optimize_result(\n"
          ]
        }
      ]
    },
    {
      "cell_type": "markdown",
      "source": [
        "### **Decision Tree**"
      ],
      "metadata": {
        "id": "MicMpSCzthjn"
      }
    },
    {
      "cell_type": "code",
      "source": [
        "decTree = DecisionTreeClassifier()\n",
        "decTree.fit(X_train, y_train)\n",
        "\n",
        "y_pred_decT = decTree.predict(X_test)\n",
        "\n",
        "acc_decT = accuracy_score(y_test, y_pred_decT)\n",
        "conf_decT = confusion_matrix(y_test, y_pred_decT)\n",
        "classReport_decT = classification_report(y_test, y_pred_decT)\n",
        "\n",
        "print(f\"Accuracy Score of Decision Tree is : {acc_decT}\")\n",
        "print(f\"Confusion Matrix : \\n{conf_decT}\")\n",
        "print(f\"Classification Report : \\n{classReport_decT}\")"
      ],
      "metadata": {
        "colab": {
          "base_uri": "https://localhost:8080/"
        },
        "id": "IBa5mXOgtebf",
        "outputId": "11f2f5b3-71d5-4dc8-c8f3-9d505f72c03f"
      },
      "execution_count": 275,
      "outputs": [
        {
          "output_type": "stream",
          "name": "stdout",
          "text": [
            "Accuracy Score of Decision Tree is : 0.8527327226377567\n",
            "Confusion Matrix : \n",
            "[[19810  2614]\n",
            " [ 2643 10630]]\n",
            "Classification Report : \n",
            "              precision    recall  f1-score   support\n",
            "\n",
            "           0       0.88      0.88      0.88     22424\n",
            "           1       0.80      0.80      0.80     13273\n",
            "\n",
            "    accuracy                           0.85     35697\n",
            "   macro avg       0.84      0.84      0.84     35697\n",
            "weighted avg       0.85      0.85      0.85     35697\n",
            "\n"
          ]
        }
      ]
    },
    {
      "cell_type": "markdown",
      "source": [
        "### **Random Forest**"
      ],
      "metadata": {
        "id": "WoqGvUlBuHRy"
      }
    },
    {
      "cell_type": "code",
      "source": [
        "rfc = RandomForestClassifier()\n",
        "rfc.fit(X_train, y_train)\n",
        "\n",
        "y_pred_rfc = rfc.predict(X_test)\n",
        "\n",
        "acc_rfc = accuracy_score(y_test, y_pred_rfc)\n",
        "conf_rfc = confusion_matrix(y_test, y_pred_rfc)\n",
        "classReport_rfc = classification_report(y_test, y_pred_rfc)\n",
        "\n",
        "print(f\"Accuracy Score of Random Forest is : {acc_rfc}\")\n",
        "print(f\"Confusion Matrix : \\n{conf_rfc}\")\n",
        "print(f\"Classification Report : \\n{classReport_rfc}\")"
      ],
      "metadata": {
        "colab": {
          "base_uri": "https://localhost:8080/"
        },
        "id": "PB7uvmt8uMSE",
        "outputId": "c3d08080-c634-48ab-a757-4a8d026fdbd0"
      },
      "execution_count": 276,
      "outputs": [
        {
          "output_type": "stream",
          "name": "stdout",
          "text": [
            "Accuracy Score of Random Forest is : 0.8765442474157492\n",
            "Confusion Matrix : \n",
            "[[20734  1690]\n",
            " [ 2717 10556]]\n",
            "Classification Report : \n",
            "              precision    recall  f1-score   support\n",
            "\n",
            "           0       0.88      0.92      0.90     22424\n",
            "           1       0.86      0.80      0.83     13273\n",
            "\n",
            "    accuracy                           0.88     35697\n",
            "   macro avg       0.87      0.86      0.87     35697\n",
            "weighted avg       0.88      0.88      0.88     35697\n",
            "\n"
          ]
        }
      ]
    },
    {
      "cell_type": "markdown",
      "source": [
        "### **XGB Classifier**"
      ],
      "metadata": {
        "id": "QdrOYgAmuy-O"
      }
    },
    {
      "cell_type": "code",
      "source": [
        "xgb = RandomForestClassifier()\n",
        "xgb.fit(X_train, y_train)\n",
        "\n",
        "y_pred_xgb = xgb.predict(X_test)\n",
        "\n",
        "acc_xgb = accuracy_score(y_test, y_pred_xgb)\n",
        "conf_xgb = confusion_matrix(y_test, y_pred_xgb)\n",
        "classReport_xgb = classification_report(y_test, y_pred_xgb)\n",
        "\n",
        "print(f\"Accuracy Score of Random Forest is : {acc_xgb}\")\n",
        "print(f\"Confusion Matrix : \\n{conf_xgb}\")\n",
        "print(f\"Classification Report : \\n{classReport_xgb}\")"
      ],
      "metadata": {
        "colab": {
          "base_uri": "https://localhost:8080/"
        },
        "id": "XH3bY7D6uyQn",
        "outputId": "1e4f02ce-9bc9-46fa-bd1a-c72aa8eb3d41"
      },
      "execution_count": 277,
      "outputs": [
        {
          "output_type": "stream",
          "name": "stdout",
          "text": [
            "Accuracy Score of Random Forest is : 0.8766563016499986\n",
            "Confusion Matrix : \n",
            "[[20744  1680]\n",
            " [ 2723 10550]]\n",
            "Classification Report : \n",
            "              precision    recall  f1-score   support\n",
            "\n",
            "           0       0.88      0.93      0.90     22424\n",
            "           1       0.86      0.79      0.83     13273\n",
            "\n",
            "    accuracy                           0.88     35697\n",
            "   macro avg       0.87      0.86      0.87     35697\n",
            "weighted avg       0.88      0.88      0.88     35697\n",
            "\n"
          ]
        }
      ]
    }
  ],
  "metadata": {
    "colab": {
      "provenance": []
    },
    "kernelspec": {
      "display_name": "Python 3",
      "name": "python3"
    },
    "language_info": {
      "name": "python"
    }
  },
  "nbformat": 4,
  "nbformat_minor": 0
}